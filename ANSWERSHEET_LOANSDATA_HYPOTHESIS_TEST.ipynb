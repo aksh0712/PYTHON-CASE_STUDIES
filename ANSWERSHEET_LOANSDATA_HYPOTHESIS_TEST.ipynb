{
 "cells": [
  {
   "cell_type": "code",
   "execution_count": 240,
   "id": "bb3dc314",
   "metadata": {},
   "outputs": [],
   "source": [
    "import pandas as pd\n",
    "import seaborn as sns\n",
    "import matplotlib.pyplot as plt\n",
    "import os\n",
    "import numpy as np\n",
    "import pandas_profiling as pf\n",
    "import statsmodels.formula.api as smf\n",
    "import re\n",
    "import warnings\n",
    "warnings.filterwarnings('ignore')"
   ]
  },
  {
   "cell_type": "code",
   "execution_count": 37,
   "id": "5f665129",
   "metadata": {},
   "outputs": [],
   "source": [
    "os.chdir(\"D:\\AnalytiXlabs\\PYTHON\\CASE-STUDIES\\Basic Statistics - Hypothesis Testing\")"
   ]
  },
  {
   "cell_type": "code",
   "execution_count": 38,
   "id": "59b23d27",
   "metadata": {},
   "outputs": [
    {
     "data": {
      "text/plain": [
       "'D:\\\\AnalytiXlabs\\\\PYTHON\\\\CASE-STUDIES\\\\Basic Statistics - Hypothesis Testing'"
      ]
     },
     "execution_count": 38,
     "metadata": {},
     "output_type": "execute_result"
    }
   ],
   "source": [
    "%pwd"
   ]
  },
  {
   "cell_type": "markdown",
   "id": "94ea42e5",
   "metadata": {},
   "source": [
    "# BUSINESS PROBLEM - 1"
   ]
  },
  {
   "cell_type": "markdown",
   "id": "03e7c770",
   "metadata": {},
   "source": [
    "## Using lending club loans data, the team would like to test below hypothesis on how different factors effecing each other (Hint: You may leverage hypothesis testing using statistical tests)\n"
   ]
  },
  {
   "cell_type": "code",
   "execution_count": 39,
   "id": "b580d8ad",
   "metadata": {},
   "outputs": [
    {
     "data": {
      "text/html": [
       "<div>\n",
       "<style scoped>\n",
       "    .dataframe tbody tr th:only-of-type {\n",
       "        vertical-align: middle;\n",
       "    }\n",
       "\n",
       "    .dataframe tbody tr th {\n",
       "        vertical-align: top;\n",
       "    }\n",
       "\n",
       "    .dataframe thead th {\n",
       "        text-align: right;\n",
       "    }\n",
       "</style>\n",
       "<table border=\"1\" class=\"dataframe\">\n",
       "  <thead>\n",
       "    <tr style=\"text-align: right;\">\n",
       "      <th></th>\n",
       "      <th>loanID</th>\n",
       "      <th>Amount.Requested</th>\n",
       "      <th>Amount.Funded.By.Investors</th>\n",
       "      <th>Interest.Rate</th>\n",
       "      <th>Loan.Length</th>\n",
       "      <th>Loan.Purpose</th>\n",
       "      <th>Debt.To.Income.Ratio</th>\n",
       "      <th>State</th>\n",
       "      <th>Home.Ownership</th>\n",
       "      <th>Monthly.Income</th>\n",
       "      <th>FICO.Range</th>\n",
       "      <th>Open.CREDIT.Lines</th>\n",
       "      <th>Revolving.CREDIT.Balance</th>\n",
       "      <th>Inquiries.in.the.Last.6.Months</th>\n",
       "      <th>Employment.Length</th>\n",
       "    </tr>\n",
       "  </thead>\n",
       "  <tbody>\n",
       "    <tr>\n",
       "      <th>0</th>\n",
       "      <td>1</td>\n",
       "      <td>20000.0</td>\n",
       "      <td>20000.0</td>\n",
       "      <td>8.90%</td>\n",
       "      <td>36 months</td>\n",
       "      <td>debt_consolidation</td>\n",
       "      <td>14.90%</td>\n",
       "      <td>SC</td>\n",
       "      <td>MORTGAGE</td>\n",
       "      <td>6541.67</td>\n",
       "      <td>735-739</td>\n",
       "      <td>14.0</td>\n",
       "      <td>14272.0</td>\n",
       "      <td>2.0</td>\n",
       "      <td>&lt; 1 year</td>\n",
       "    </tr>\n",
       "    <tr>\n",
       "      <th>1</th>\n",
       "      <td>2</td>\n",
       "      <td>19200.0</td>\n",
       "      <td>19200.0</td>\n",
       "      <td>12.12%</td>\n",
       "      <td>36 months</td>\n",
       "      <td>debt_consolidation</td>\n",
       "      <td>28.36%</td>\n",
       "      <td>TX</td>\n",
       "      <td>MORTGAGE</td>\n",
       "      <td>4583.33</td>\n",
       "      <td>715-719</td>\n",
       "      <td>12.0</td>\n",
       "      <td>11140.0</td>\n",
       "      <td>1.0</td>\n",
       "      <td>2 years</td>\n",
       "    </tr>\n",
       "    <tr>\n",
       "      <th>2</th>\n",
       "      <td>3</td>\n",
       "      <td>35000.0</td>\n",
       "      <td>35000.0</td>\n",
       "      <td>21.98%</td>\n",
       "      <td>60 months</td>\n",
       "      <td>debt_consolidation</td>\n",
       "      <td>23.81%</td>\n",
       "      <td>CA</td>\n",
       "      <td>MORTGAGE</td>\n",
       "      <td>11500.00</td>\n",
       "      <td>690-694</td>\n",
       "      <td>14.0</td>\n",
       "      <td>21977.0</td>\n",
       "      <td>1.0</td>\n",
       "      <td>2 years</td>\n",
       "    </tr>\n",
       "    <tr>\n",
       "      <th>3</th>\n",
       "      <td>4</td>\n",
       "      <td>10000.0</td>\n",
       "      <td>9975.0</td>\n",
       "      <td>9.99%</td>\n",
       "      <td>36 months</td>\n",
       "      <td>debt_consolidation</td>\n",
       "      <td>14.30%</td>\n",
       "      <td>KS</td>\n",
       "      <td>MORTGAGE</td>\n",
       "      <td>3833.33</td>\n",
       "      <td>695-699</td>\n",
       "      <td>10.0</td>\n",
       "      <td>9346.0</td>\n",
       "      <td>0.0</td>\n",
       "      <td>5 years</td>\n",
       "    </tr>\n",
       "    <tr>\n",
       "      <th>4</th>\n",
       "      <td>5</td>\n",
       "      <td>12000.0</td>\n",
       "      <td>12000.0</td>\n",
       "      <td>11.71%</td>\n",
       "      <td>36 months</td>\n",
       "      <td>credit_card</td>\n",
       "      <td>18.78%</td>\n",
       "      <td>NJ</td>\n",
       "      <td>RENT</td>\n",
       "      <td>3195.00</td>\n",
       "      <td>695-699</td>\n",
       "      <td>11.0</td>\n",
       "      <td>14469.0</td>\n",
       "      <td>0.0</td>\n",
       "      <td>9 years</td>\n",
       "    </tr>\n",
       "  </tbody>\n",
       "</table>\n",
       "</div>"
      ],
      "text/plain": [
       "   loanID  Amount.Requested  Amount.Funded.By.Investors Interest.Rate  \\\n",
       "0       1           20000.0                     20000.0         8.90%   \n",
       "1       2           19200.0                     19200.0        12.12%   \n",
       "2       3           35000.0                     35000.0        21.98%   \n",
       "3       4           10000.0                      9975.0         9.99%   \n",
       "4       5           12000.0                     12000.0        11.71%   \n",
       "\n",
       "  Loan.Length        Loan.Purpose Debt.To.Income.Ratio State Home.Ownership  \\\n",
       "0   36 months  debt_consolidation               14.90%    SC       MORTGAGE   \n",
       "1   36 months  debt_consolidation               28.36%    TX       MORTGAGE   \n",
       "2   60 months  debt_consolidation               23.81%    CA       MORTGAGE   \n",
       "3   36 months  debt_consolidation               14.30%    KS       MORTGAGE   \n",
       "4   36 months         credit_card               18.78%    NJ           RENT   \n",
       "\n",
       "   Monthly.Income FICO.Range  Open.CREDIT.Lines  Revolving.CREDIT.Balance  \\\n",
       "0         6541.67    735-739               14.0                   14272.0   \n",
       "1         4583.33    715-719               12.0                   11140.0   \n",
       "2        11500.00    690-694               14.0                   21977.0   \n",
       "3         3833.33    695-699               10.0                    9346.0   \n",
       "4         3195.00    695-699               11.0                   14469.0   \n",
       "\n",
       "   Inquiries.in.the.Last.6.Months Employment.Length  \n",
       "0                             2.0          < 1 year  \n",
       "1                             1.0           2 years  \n",
       "2                             1.0           2 years  \n",
       "3                             0.0           5 years  \n",
       "4                             0.0           9 years  "
      ]
     },
     "execution_count": 39,
     "metadata": {},
     "output_type": "execute_result"
    }
   ],
   "source": [
    "loansdata = pd.read_csv('./LoansData.csv')\n",
    "loansdata.head()"
   ]
  },
  {
   "cell_type": "code",
   "execution_count": 40,
   "id": "ce8aa873",
   "metadata": {},
   "outputs": [
    {
     "data": {
      "text/plain": [
       "loanID                              int64\n",
       "Amount.Requested                  float64\n",
       "Amount.Funded.By.Investors        float64\n",
       "Interest.Rate                      object\n",
       "Loan.Length                        object\n",
       "Loan.Purpose                       object\n",
       "Debt.To.Income.Ratio               object\n",
       "State                              object\n",
       "Home.Ownership                     object\n",
       "Monthly.Income                    float64\n",
       "FICO.Range                         object\n",
       "Open.CREDIT.Lines                 float64\n",
       "Revolving.CREDIT.Balance          float64\n",
       "Inquiries.in.the.Last.6.Months    float64\n",
       "Employment.Length                  object\n",
       "dtype: object"
      ]
     },
     "execution_count": 40,
     "metadata": {},
     "output_type": "execute_result"
    }
   ],
   "source": [
    "loansdata.dtypes"
   ]
  },
  {
   "cell_type": "code",
   "execution_count": 41,
   "id": "04ee4e8a",
   "metadata": {},
   "outputs": [
    {
     "data": {
      "text/plain": [
       "0"
      ]
     },
     "execution_count": 41,
     "metadata": {},
     "output_type": "execute_result"
    }
   ],
   "source": [
    "loansdata.duplicated(subset=None, keep='first').sum()"
   ]
  },
  {
   "cell_type": "code",
   "execution_count": 42,
   "id": "bf91ecc8",
   "metadata": {},
   "outputs": [
    {
     "data": {
      "text/plain": [
       "Index(['loanID', 'Amount_Requested', 'Amount_Funded_By_Investors',\n",
       "       'Interest_Rate', 'Loan_Length', 'Loan_Purpose', 'Debt_To_Income_Ratio',\n",
       "       'State', 'Home_Ownership', 'Monthly_Income', 'FICO_Range',\n",
       "       'Open_CREDIT_Lines', 'Revolving_CREDIT_Balance',\n",
       "       'Inquiries_in_the_Last_6_Months', 'Employment_Length'],\n",
       "      dtype='object')"
      ]
     },
     "execution_count": 42,
     "metadata": {},
     "output_type": "execute_result"
    }
   ],
   "source": [
    "loansdata.columns = [x.replace('.','_') for x in loansdata.columns]\n",
    "loansdata.columns"
   ]
  },
  {
   "cell_type": "code",
   "execution_count": 43,
   "id": "6f1ca63c",
   "metadata": {},
   "outputs": [
    {
     "data": {
      "text/html": [
       "<div>\n",
       "<style scoped>\n",
       "    .dataframe tbody tr th:only-of-type {\n",
       "        vertical-align: middle;\n",
       "    }\n",
       "\n",
       "    .dataframe tbody tr th {\n",
       "        vertical-align: top;\n",
       "    }\n",
       "\n",
       "    .dataframe thead th {\n",
       "        text-align: right;\n",
       "    }\n",
       "</style>\n",
       "<table border=\"1\" class=\"dataframe\">\n",
       "  <thead>\n",
       "    <tr style=\"text-align: right;\">\n",
       "      <th></th>\n",
       "      <th>loanID</th>\n",
       "      <th>Amount_Requested</th>\n",
       "      <th>Amount_Funded_By_Investors</th>\n",
       "      <th>Interest_Rate</th>\n",
       "      <th>Loan_Length</th>\n",
       "      <th>Loan_Purpose</th>\n",
       "      <th>Debt_To_Income_Ratio</th>\n",
       "      <th>State</th>\n",
       "      <th>Home_Ownership</th>\n",
       "      <th>Monthly_Income</th>\n",
       "      <th>FICO_Range</th>\n",
       "      <th>Open_CREDIT_Lines</th>\n",
       "      <th>Revolving_CREDIT_Balance</th>\n",
       "      <th>Inquiries_in_the_Last_6_Months</th>\n",
       "      <th>Employment_Length</th>\n",
       "    </tr>\n",
       "  </thead>\n",
       "  <tbody>\n",
       "    <tr>\n",
       "      <th>0</th>\n",
       "      <td>1</td>\n",
       "      <td>20000.0</td>\n",
       "      <td>20000.00</td>\n",
       "      <td>8.90%</td>\n",
       "      <td>36 months</td>\n",
       "      <td>debt_consolidation</td>\n",
       "      <td>14.90%</td>\n",
       "      <td>SC</td>\n",
       "      <td>MORTGAGE</td>\n",
       "      <td>6541.67</td>\n",
       "      <td>735-739</td>\n",
       "      <td>14.0</td>\n",
       "      <td>14272.0</td>\n",
       "      <td>2.0</td>\n",
       "      <td>&lt; 1 year</td>\n",
       "    </tr>\n",
       "    <tr>\n",
       "      <th>1</th>\n",
       "      <td>2</td>\n",
       "      <td>19200.0</td>\n",
       "      <td>19200.00</td>\n",
       "      <td>12.12%</td>\n",
       "      <td>36 months</td>\n",
       "      <td>debt_consolidation</td>\n",
       "      <td>28.36%</td>\n",
       "      <td>TX</td>\n",
       "      <td>MORTGAGE</td>\n",
       "      <td>4583.33</td>\n",
       "      <td>715-719</td>\n",
       "      <td>12.0</td>\n",
       "      <td>11140.0</td>\n",
       "      <td>1.0</td>\n",
       "      <td>2 years</td>\n",
       "    </tr>\n",
       "    <tr>\n",
       "      <th>2</th>\n",
       "      <td>3</td>\n",
       "      <td>35000.0</td>\n",
       "      <td>35000.00</td>\n",
       "      <td>21.98%</td>\n",
       "      <td>60 months</td>\n",
       "      <td>debt_consolidation</td>\n",
       "      <td>23.81%</td>\n",
       "      <td>CA</td>\n",
       "      <td>MORTGAGE</td>\n",
       "      <td>11500.00</td>\n",
       "      <td>690-694</td>\n",
       "      <td>14.0</td>\n",
       "      <td>21977.0</td>\n",
       "      <td>1.0</td>\n",
       "      <td>2 years</td>\n",
       "    </tr>\n",
       "    <tr>\n",
       "      <th>3</th>\n",
       "      <td>4</td>\n",
       "      <td>10000.0</td>\n",
       "      <td>9975.00</td>\n",
       "      <td>9.99%</td>\n",
       "      <td>36 months</td>\n",
       "      <td>debt_consolidation</td>\n",
       "      <td>14.30%</td>\n",
       "      <td>KS</td>\n",
       "      <td>MORTGAGE</td>\n",
       "      <td>3833.33</td>\n",
       "      <td>695-699</td>\n",
       "      <td>10.0</td>\n",
       "      <td>9346.0</td>\n",
       "      <td>0.0</td>\n",
       "      <td>5 years</td>\n",
       "    </tr>\n",
       "    <tr>\n",
       "      <th>4</th>\n",
       "      <td>5</td>\n",
       "      <td>12000.0</td>\n",
       "      <td>12000.00</td>\n",
       "      <td>11.71%</td>\n",
       "      <td>36 months</td>\n",
       "      <td>credit_card</td>\n",
       "      <td>18.78%</td>\n",
       "      <td>NJ</td>\n",
       "      <td>RENT</td>\n",
       "      <td>3195.00</td>\n",
       "      <td>695-699</td>\n",
       "      <td>11.0</td>\n",
       "      <td>14469.0</td>\n",
       "      <td>0.0</td>\n",
       "      <td>9 years</td>\n",
       "    </tr>\n",
       "    <tr>\n",
       "      <th>...</th>\n",
       "      <td>...</td>\n",
       "      <td>...</td>\n",
       "      <td>...</td>\n",
       "      <td>...</td>\n",
       "      <td>...</td>\n",
       "      <td>...</td>\n",
       "      <td>...</td>\n",
       "      <td>...</td>\n",
       "      <td>...</td>\n",
       "      <td>...</td>\n",
       "      <td>...</td>\n",
       "      <td>...</td>\n",
       "      <td>...</td>\n",
       "      <td>...</td>\n",
       "      <td>...</td>\n",
       "    </tr>\n",
       "    <tr>\n",
       "      <th>2495</th>\n",
       "      <td>2496</td>\n",
       "      <td>30000.0</td>\n",
       "      <td>29950.00</td>\n",
       "      <td>16.77%</td>\n",
       "      <td>60 months</td>\n",
       "      <td>debt_consolidation</td>\n",
       "      <td>19.23%</td>\n",
       "      <td>NY</td>\n",
       "      <td>MORTGAGE</td>\n",
       "      <td>9250.00</td>\n",
       "      <td>705-709</td>\n",
       "      <td>15.0</td>\n",
       "      <td>45880.0</td>\n",
       "      <td>1.0</td>\n",
       "      <td>8 years</td>\n",
       "    </tr>\n",
       "    <tr>\n",
       "      <th>2496</th>\n",
       "      <td>2497</td>\n",
       "      <td>16000.0</td>\n",
       "      <td>16000.00</td>\n",
       "      <td>14.09%</td>\n",
       "      <td>60 months</td>\n",
       "      <td>home_improvement</td>\n",
       "      <td>21.54%</td>\n",
       "      <td>MD</td>\n",
       "      <td>OWN</td>\n",
       "      <td>8903.25</td>\n",
       "      <td>740-744</td>\n",
       "      <td>18.0</td>\n",
       "      <td>18898.0</td>\n",
       "      <td>1.0</td>\n",
       "      <td>10+ years</td>\n",
       "    </tr>\n",
       "    <tr>\n",
       "      <th>2497</th>\n",
       "      <td>2498</td>\n",
       "      <td>10000.0</td>\n",
       "      <td>10000.00</td>\n",
       "      <td>13.99%</td>\n",
       "      <td>36 months</td>\n",
       "      <td>debt_consolidation</td>\n",
       "      <td>4.89%</td>\n",
       "      <td>PA</td>\n",
       "      <td>MORTGAGE</td>\n",
       "      <td>2166.67</td>\n",
       "      <td>680-684</td>\n",
       "      <td>4.0</td>\n",
       "      <td>4544.0</td>\n",
       "      <td>0.0</td>\n",
       "      <td>10+ years</td>\n",
       "    </tr>\n",
       "    <tr>\n",
       "      <th>2498</th>\n",
       "      <td>2499</td>\n",
       "      <td>6000.0</td>\n",
       "      <td>6000.00</td>\n",
       "      <td>12.42%</td>\n",
       "      <td>36 months</td>\n",
       "      <td>major_purchase</td>\n",
       "      <td>16.66%</td>\n",
       "      <td>NJ</td>\n",
       "      <td>RENT</td>\n",
       "      <td>3500.00</td>\n",
       "      <td>675-679</td>\n",
       "      <td>8.0</td>\n",
       "      <td>7753.0</td>\n",
       "      <td>0.0</td>\n",
       "      <td>5 years</td>\n",
       "    </tr>\n",
       "    <tr>\n",
       "      <th>2499</th>\n",
       "      <td>2500</td>\n",
       "      <td>9000.0</td>\n",
       "      <td>5242.75</td>\n",
       "      <td>13.79%</td>\n",
       "      <td>36 months</td>\n",
       "      <td>debt_consolidation</td>\n",
       "      <td>6.76%</td>\n",
       "      <td>NY</td>\n",
       "      <td>RENT</td>\n",
       "      <td>3875.00</td>\n",
       "      <td>670-674</td>\n",
       "      <td>7.0</td>\n",
       "      <td>7589.0</td>\n",
       "      <td>0.0</td>\n",
       "      <td>10+ years</td>\n",
       "    </tr>\n",
       "  </tbody>\n",
       "</table>\n",
       "<p>2500 rows × 15 columns</p>\n",
       "</div>"
      ],
      "text/plain": [
       "      loanID  Amount_Requested  Amount_Funded_By_Investors Interest_Rate  \\\n",
       "0          1           20000.0                    20000.00         8.90%   \n",
       "1          2           19200.0                    19200.00        12.12%   \n",
       "2          3           35000.0                    35000.00        21.98%   \n",
       "3          4           10000.0                     9975.00         9.99%   \n",
       "4          5           12000.0                    12000.00        11.71%   \n",
       "...      ...               ...                         ...           ...   \n",
       "2495    2496           30000.0                    29950.00        16.77%   \n",
       "2496    2497           16000.0                    16000.00        14.09%   \n",
       "2497    2498           10000.0                    10000.00        13.99%   \n",
       "2498    2499            6000.0                     6000.00        12.42%   \n",
       "2499    2500            9000.0                     5242.75        13.79%   \n",
       "\n",
       "     Loan_Length        Loan_Purpose Debt_To_Income_Ratio State  \\\n",
       "0      36 months  debt_consolidation               14.90%    SC   \n",
       "1      36 months  debt_consolidation               28.36%    TX   \n",
       "2      60 months  debt_consolidation               23.81%    CA   \n",
       "3      36 months  debt_consolidation               14.30%    KS   \n",
       "4      36 months         credit_card               18.78%    NJ   \n",
       "...          ...                 ...                  ...   ...   \n",
       "2495   60 months  debt_consolidation               19.23%    NY   \n",
       "2496   60 months    home_improvement               21.54%    MD   \n",
       "2497   36 months  debt_consolidation                4.89%    PA   \n",
       "2498   36 months      major_purchase               16.66%    NJ   \n",
       "2499   36 months  debt_consolidation                6.76%    NY   \n",
       "\n",
       "     Home_Ownership  Monthly_Income FICO_Range  Open_CREDIT_Lines  \\\n",
       "0          MORTGAGE         6541.67    735-739               14.0   \n",
       "1          MORTGAGE         4583.33    715-719               12.0   \n",
       "2          MORTGAGE        11500.00    690-694               14.0   \n",
       "3          MORTGAGE         3833.33    695-699               10.0   \n",
       "4              RENT         3195.00    695-699               11.0   \n",
       "...             ...             ...        ...                ...   \n",
       "2495       MORTGAGE         9250.00    705-709               15.0   \n",
       "2496            OWN         8903.25    740-744               18.0   \n",
       "2497       MORTGAGE         2166.67    680-684                4.0   \n",
       "2498           RENT         3500.00    675-679                8.0   \n",
       "2499           RENT         3875.00    670-674                7.0   \n",
       "\n",
       "      Revolving_CREDIT_Balance  Inquiries_in_the_Last_6_Months  \\\n",
       "0                      14272.0                             2.0   \n",
       "1                      11140.0                             1.0   \n",
       "2                      21977.0                             1.0   \n",
       "3                       9346.0                             0.0   \n",
       "4                      14469.0                             0.0   \n",
       "...                        ...                             ...   \n",
       "2495                   45880.0                             1.0   \n",
       "2496                   18898.0                             1.0   \n",
       "2497                    4544.0                             0.0   \n",
       "2498                    7753.0                             0.0   \n",
       "2499                    7589.0                             0.0   \n",
       "\n",
       "     Employment_Length  \n",
       "0             < 1 year  \n",
       "1              2 years  \n",
       "2              2 years  \n",
       "3              5 years  \n",
       "4              9 years  \n",
       "...                ...  \n",
       "2495           8 years  \n",
       "2496         10+ years  \n",
       "2497         10+ years  \n",
       "2498           5 years  \n",
       "2499         10+ years  \n",
       "\n",
       "[2500 rows x 15 columns]"
      ]
     },
     "execution_count": 43,
     "metadata": {},
     "output_type": "execute_result"
    }
   ],
   "source": [
    "loansdata"
   ]
  },
  {
   "cell_type": "code",
   "execution_count": 44,
   "id": "5f8f8d7b",
   "metadata": {},
   "outputs": [],
   "source": [
    "loansdata['Interest_Rate'] = loansdata['Interest_Rate'].str.rstrip('%').astype('float')"
   ]
  },
  {
   "cell_type": "code",
   "execution_count": 45,
   "id": "50146c83",
   "metadata": {},
   "outputs": [],
   "source": [
    "loansdata['Debt_To_Income_Ratio'] = loansdata['Debt_To_Income_Ratio'].str.rstrip('%').astype('float')"
   ]
  },
  {
   "cell_type": "code",
   "execution_count": 46,
   "id": "38a777d6",
   "metadata": {},
   "outputs": [],
   "source": [
    "loansdata['Loan_Length'] = loansdata['Loan_Length'].str.rstrip('months').astype('float')"
   ]
  },
  {
   "cell_type": "code",
   "execution_count": 47,
   "id": "0e6c06bc",
   "metadata": {},
   "outputs": [],
   "source": [
    "loansdata['Employment_Length'] = loansdata.Employment_Length.str.replace(' years','').str.replace(' year','').str.replace('< ','').str.replace('+','').astype('float')"
   ]
  },
  {
   "cell_type": "code",
   "execution_count": 48,
   "id": "05966909",
   "metadata": {},
   "outputs": [
    {
     "data": {
      "text/html": [
       "<div>\n",
       "<style scoped>\n",
       "    .dataframe tbody tr th:only-of-type {\n",
       "        vertical-align: middle;\n",
       "    }\n",
       "\n",
       "    .dataframe tbody tr th {\n",
       "        vertical-align: top;\n",
       "    }\n",
       "\n",
       "    .dataframe thead th {\n",
       "        text-align: right;\n",
       "    }\n",
       "</style>\n",
       "<table border=\"1\" class=\"dataframe\">\n",
       "  <thead>\n",
       "    <tr style=\"text-align: right;\">\n",
       "      <th></th>\n",
       "      <th>loanID</th>\n",
       "      <th>Amount_Requested</th>\n",
       "      <th>Amount_Funded_By_Investors</th>\n",
       "      <th>Interest_Rate</th>\n",
       "      <th>Loan_Length</th>\n",
       "      <th>Loan_Purpose</th>\n",
       "      <th>Debt_To_Income_Ratio</th>\n",
       "      <th>State</th>\n",
       "      <th>Home_Ownership</th>\n",
       "      <th>Monthly_Income</th>\n",
       "      <th>FICO_Range</th>\n",
       "      <th>Open_CREDIT_Lines</th>\n",
       "      <th>Revolving_CREDIT_Balance</th>\n",
       "      <th>Inquiries_in_the_Last_6_Months</th>\n",
       "      <th>Employment_Length</th>\n",
       "    </tr>\n",
       "  </thead>\n",
       "  <tbody>\n",
       "    <tr>\n",
       "      <th>0</th>\n",
       "      <td>1</td>\n",
       "      <td>20000.0</td>\n",
       "      <td>20000.00</td>\n",
       "      <td>8.90</td>\n",
       "      <td>36.0</td>\n",
       "      <td>debt_consolidation</td>\n",
       "      <td>14.90</td>\n",
       "      <td>SC</td>\n",
       "      <td>MORTGAGE</td>\n",
       "      <td>6541.67</td>\n",
       "      <td>735-739</td>\n",
       "      <td>14.0</td>\n",
       "      <td>14272.0</td>\n",
       "      <td>2.0</td>\n",
       "      <td>1.0</td>\n",
       "    </tr>\n",
       "    <tr>\n",
       "      <th>1</th>\n",
       "      <td>2</td>\n",
       "      <td>19200.0</td>\n",
       "      <td>19200.00</td>\n",
       "      <td>12.12</td>\n",
       "      <td>36.0</td>\n",
       "      <td>debt_consolidation</td>\n",
       "      <td>28.36</td>\n",
       "      <td>TX</td>\n",
       "      <td>MORTGAGE</td>\n",
       "      <td>4583.33</td>\n",
       "      <td>715-719</td>\n",
       "      <td>12.0</td>\n",
       "      <td>11140.0</td>\n",
       "      <td>1.0</td>\n",
       "      <td>2.0</td>\n",
       "    </tr>\n",
       "    <tr>\n",
       "      <th>2</th>\n",
       "      <td>3</td>\n",
       "      <td>35000.0</td>\n",
       "      <td>35000.00</td>\n",
       "      <td>21.98</td>\n",
       "      <td>60.0</td>\n",
       "      <td>debt_consolidation</td>\n",
       "      <td>23.81</td>\n",
       "      <td>CA</td>\n",
       "      <td>MORTGAGE</td>\n",
       "      <td>11500.00</td>\n",
       "      <td>690-694</td>\n",
       "      <td>14.0</td>\n",
       "      <td>21977.0</td>\n",
       "      <td>1.0</td>\n",
       "      <td>2.0</td>\n",
       "    </tr>\n",
       "    <tr>\n",
       "      <th>3</th>\n",
       "      <td>4</td>\n",
       "      <td>10000.0</td>\n",
       "      <td>9975.00</td>\n",
       "      <td>9.99</td>\n",
       "      <td>36.0</td>\n",
       "      <td>debt_consolidation</td>\n",
       "      <td>14.30</td>\n",
       "      <td>KS</td>\n",
       "      <td>MORTGAGE</td>\n",
       "      <td>3833.33</td>\n",
       "      <td>695-699</td>\n",
       "      <td>10.0</td>\n",
       "      <td>9346.0</td>\n",
       "      <td>0.0</td>\n",
       "      <td>5.0</td>\n",
       "    </tr>\n",
       "    <tr>\n",
       "      <th>4</th>\n",
       "      <td>5</td>\n",
       "      <td>12000.0</td>\n",
       "      <td>12000.00</td>\n",
       "      <td>11.71</td>\n",
       "      <td>36.0</td>\n",
       "      <td>credit_card</td>\n",
       "      <td>18.78</td>\n",
       "      <td>NJ</td>\n",
       "      <td>RENT</td>\n",
       "      <td>3195.00</td>\n",
       "      <td>695-699</td>\n",
       "      <td>11.0</td>\n",
       "      <td>14469.0</td>\n",
       "      <td>0.0</td>\n",
       "      <td>9.0</td>\n",
       "    </tr>\n",
       "    <tr>\n",
       "      <th>...</th>\n",
       "      <td>...</td>\n",
       "      <td>...</td>\n",
       "      <td>...</td>\n",
       "      <td>...</td>\n",
       "      <td>...</td>\n",
       "      <td>...</td>\n",
       "      <td>...</td>\n",
       "      <td>...</td>\n",
       "      <td>...</td>\n",
       "      <td>...</td>\n",
       "      <td>...</td>\n",
       "      <td>...</td>\n",
       "      <td>...</td>\n",
       "      <td>...</td>\n",
       "      <td>...</td>\n",
       "    </tr>\n",
       "    <tr>\n",
       "      <th>2495</th>\n",
       "      <td>2496</td>\n",
       "      <td>30000.0</td>\n",
       "      <td>29950.00</td>\n",
       "      <td>16.77</td>\n",
       "      <td>60.0</td>\n",
       "      <td>debt_consolidation</td>\n",
       "      <td>19.23</td>\n",
       "      <td>NY</td>\n",
       "      <td>MORTGAGE</td>\n",
       "      <td>9250.00</td>\n",
       "      <td>705-709</td>\n",
       "      <td>15.0</td>\n",
       "      <td>45880.0</td>\n",
       "      <td>1.0</td>\n",
       "      <td>8.0</td>\n",
       "    </tr>\n",
       "    <tr>\n",
       "      <th>2496</th>\n",
       "      <td>2497</td>\n",
       "      <td>16000.0</td>\n",
       "      <td>16000.00</td>\n",
       "      <td>14.09</td>\n",
       "      <td>60.0</td>\n",
       "      <td>home_improvement</td>\n",
       "      <td>21.54</td>\n",
       "      <td>MD</td>\n",
       "      <td>OWN</td>\n",
       "      <td>8903.25</td>\n",
       "      <td>740-744</td>\n",
       "      <td>18.0</td>\n",
       "      <td>18898.0</td>\n",
       "      <td>1.0</td>\n",
       "      <td>10.0</td>\n",
       "    </tr>\n",
       "    <tr>\n",
       "      <th>2497</th>\n",
       "      <td>2498</td>\n",
       "      <td>10000.0</td>\n",
       "      <td>10000.00</td>\n",
       "      <td>13.99</td>\n",
       "      <td>36.0</td>\n",
       "      <td>debt_consolidation</td>\n",
       "      <td>4.89</td>\n",
       "      <td>PA</td>\n",
       "      <td>MORTGAGE</td>\n",
       "      <td>2166.67</td>\n",
       "      <td>680-684</td>\n",
       "      <td>4.0</td>\n",
       "      <td>4544.0</td>\n",
       "      <td>0.0</td>\n",
       "      <td>10.0</td>\n",
       "    </tr>\n",
       "    <tr>\n",
       "      <th>2498</th>\n",
       "      <td>2499</td>\n",
       "      <td>6000.0</td>\n",
       "      <td>6000.00</td>\n",
       "      <td>12.42</td>\n",
       "      <td>36.0</td>\n",
       "      <td>major_purchase</td>\n",
       "      <td>16.66</td>\n",
       "      <td>NJ</td>\n",
       "      <td>RENT</td>\n",
       "      <td>3500.00</td>\n",
       "      <td>675-679</td>\n",
       "      <td>8.0</td>\n",
       "      <td>7753.0</td>\n",
       "      <td>0.0</td>\n",
       "      <td>5.0</td>\n",
       "    </tr>\n",
       "    <tr>\n",
       "      <th>2499</th>\n",
       "      <td>2500</td>\n",
       "      <td>9000.0</td>\n",
       "      <td>5242.75</td>\n",
       "      <td>13.79</td>\n",
       "      <td>36.0</td>\n",
       "      <td>debt_consolidation</td>\n",
       "      <td>6.76</td>\n",
       "      <td>NY</td>\n",
       "      <td>RENT</td>\n",
       "      <td>3875.00</td>\n",
       "      <td>670-674</td>\n",
       "      <td>7.0</td>\n",
       "      <td>7589.0</td>\n",
       "      <td>0.0</td>\n",
       "      <td>10.0</td>\n",
       "    </tr>\n",
       "  </tbody>\n",
       "</table>\n",
       "<p>2500 rows × 15 columns</p>\n",
       "</div>"
      ],
      "text/plain": [
       "      loanID  Amount_Requested  Amount_Funded_By_Investors  Interest_Rate  \\\n",
       "0          1           20000.0                    20000.00           8.90   \n",
       "1          2           19200.0                    19200.00          12.12   \n",
       "2          3           35000.0                    35000.00          21.98   \n",
       "3          4           10000.0                     9975.00           9.99   \n",
       "4          5           12000.0                    12000.00          11.71   \n",
       "...      ...               ...                         ...            ...   \n",
       "2495    2496           30000.0                    29950.00          16.77   \n",
       "2496    2497           16000.0                    16000.00          14.09   \n",
       "2497    2498           10000.0                    10000.00          13.99   \n",
       "2498    2499            6000.0                     6000.00          12.42   \n",
       "2499    2500            9000.0                     5242.75          13.79   \n",
       "\n",
       "      Loan_Length        Loan_Purpose  Debt_To_Income_Ratio State  \\\n",
       "0            36.0  debt_consolidation                 14.90    SC   \n",
       "1            36.0  debt_consolidation                 28.36    TX   \n",
       "2            60.0  debt_consolidation                 23.81    CA   \n",
       "3            36.0  debt_consolidation                 14.30    KS   \n",
       "4            36.0         credit_card                 18.78    NJ   \n",
       "...           ...                 ...                   ...   ...   \n",
       "2495         60.0  debt_consolidation                 19.23    NY   \n",
       "2496         60.0    home_improvement                 21.54    MD   \n",
       "2497         36.0  debt_consolidation                  4.89    PA   \n",
       "2498         36.0      major_purchase                 16.66    NJ   \n",
       "2499         36.0  debt_consolidation                  6.76    NY   \n",
       "\n",
       "     Home_Ownership  Monthly_Income FICO_Range  Open_CREDIT_Lines  \\\n",
       "0          MORTGAGE         6541.67    735-739               14.0   \n",
       "1          MORTGAGE         4583.33    715-719               12.0   \n",
       "2          MORTGAGE        11500.00    690-694               14.0   \n",
       "3          MORTGAGE         3833.33    695-699               10.0   \n",
       "4              RENT         3195.00    695-699               11.0   \n",
       "...             ...             ...        ...                ...   \n",
       "2495       MORTGAGE         9250.00    705-709               15.0   \n",
       "2496            OWN         8903.25    740-744               18.0   \n",
       "2497       MORTGAGE         2166.67    680-684                4.0   \n",
       "2498           RENT         3500.00    675-679                8.0   \n",
       "2499           RENT         3875.00    670-674                7.0   \n",
       "\n",
       "      Revolving_CREDIT_Balance  Inquiries_in_the_Last_6_Months  \\\n",
       "0                      14272.0                             2.0   \n",
       "1                      11140.0                             1.0   \n",
       "2                      21977.0                             1.0   \n",
       "3                       9346.0                             0.0   \n",
       "4                      14469.0                             0.0   \n",
       "...                        ...                             ...   \n",
       "2495                   45880.0                             1.0   \n",
       "2496                   18898.0                             1.0   \n",
       "2497                    4544.0                             0.0   \n",
       "2498                    7753.0                             0.0   \n",
       "2499                    7589.0                             0.0   \n",
       "\n",
       "      Employment_Length  \n",
       "0                   1.0  \n",
       "1                   2.0  \n",
       "2                   2.0  \n",
       "3                   5.0  \n",
       "4                   9.0  \n",
       "...                 ...  \n",
       "2495                8.0  \n",
       "2496               10.0  \n",
       "2497               10.0  \n",
       "2498                5.0  \n",
       "2499               10.0  \n",
       "\n",
       "[2500 rows x 15 columns]"
      ]
     },
     "execution_count": 48,
     "metadata": {},
     "output_type": "execute_result"
    }
   ],
   "source": [
    "loansdata"
   ]
  },
  {
   "cell_type": "code",
   "execution_count": 49,
   "id": "9cbafdbc",
   "metadata": {},
   "outputs": [
    {
     "data": {
      "text/plain": [
       "loanID                              int64\n",
       "Amount_Requested                  float64\n",
       "Amount_Funded_By_Investors        float64\n",
       "Interest_Rate                     float64\n",
       "Loan_Length                       float64\n",
       "Loan_Purpose                       object\n",
       "Debt_To_Income_Ratio              float64\n",
       "State                              object\n",
       "Home_Ownership                     object\n",
       "Monthly_Income                    float64\n",
       "FICO_Range                         object\n",
       "Open_CREDIT_Lines                 float64\n",
       "Revolving_CREDIT_Balance          float64\n",
       "Inquiries_in_the_Last_6_Months    float64\n",
       "Employment_Length                 float64\n",
       "dtype: object"
      ]
     },
     "execution_count": 49,
     "metadata": {},
     "output_type": "execute_result"
    }
   ],
   "source": [
    "loansdata['Interest_Rate'] = loansdata['Interest_Rate'].apply(pd.to_numeric)\n",
    "loansdata['Debt_To_Income_Ratio'] = loansdata['Debt_To_Income_Ratio'].apply(pd.to_numeric)\n",
    "loansdata['Loan_Length'] = loansdata['Loan_Length'].apply(pd.to_numeric)\n",
    "loansdata.dtypes"
   ]
  },
  {
   "cell_type": "code",
   "execution_count": 50,
   "id": "0d4bfb93",
   "metadata": {},
   "outputs": [
    {
     "data": {
      "text/plain": [
       "loanID                             0\n",
       "Amount_Requested                   1\n",
       "Amount_Funded_By_Investors         1\n",
       "Interest_Rate                      2\n",
       "Loan_Length                        0\n",
       "Loan_Purpose                       0\n",
       "Debt_To_Income_Ratio               1\n",
       "State                              0\n",
       "Home_Ownership                     1\n",
       "Monthly_Income                     1\n",
       "FICO_Range                         2\n",
       "Open_CREDIT_Lines                  3\n",
       "Revolving_CREDIT_Balance           3\n",
       "Inquiries_in_the_Last_6_Months     3\n",
       "Employment_Length                 77\n",
       "dtype: int64"
      ]
     },
     "execution_count": 50,
     "metadata": {},
     "output_type": "execute_result"
    }
   ],
   "source": [
    "loansdata.isnull().sum()"
   ]
  },
  {
   "cell_type": "code",
   "execution_count": 51,
   "id": "13ef6069",
   "metadata": {},
   "outputs": [],
   "source": [
    "def missing_values(i):\n",
    "    if ((i.dtype == 'float') or (i.dtype == 'int')):\n",
    "        i = i.fillna(i.median())\n",
    "    elif((i.dtype == 'object') or (i.dtype == 'O')):\n",
    "        i = i.fillna(i.mode()[0])\n",
    "    else:\n",
    "        i = i\n",
    "    return i\n",
    "    \n",
    "    \n",
    "loansdata = loansdata.apply(missing_values)"
   ]
  },
  {
   "cell_type": "code",
   "execution_count": 52,
   "id": "dcc8da56",
   "metadata": {},
   "outputs": [
    {
     "data": {
      "text/plain": [
       "loanID                            0\n",
       "Amount_Requested                  0\n",
       "Amount_Funded_By_Investors        0\n",
       "Interest_Rate                     0\n",
       "Loan_Length                       0\n",
       "Loan_Purpose                      0\n",
       "Debt_To_Income_Ratio              0\n",
       "State                             0\n",
       "Home_Ownership                    0\n",
       "Monthly_Income                    0\n",
       "FICO_Range                        0\n",
       "Open_CREDIT_Lines                 0\n",
       "Revolving_CREDIT_Balance          0\n",
       "Inquiries_in_the_Last_6_Months    0\n",
       "Employment_Length                 0\n",
       "dtype: int64"
      ]
     },
     "execution_count": 52,
     "metadata": {},
     "output_type": "execute_result"
    }
   ],
   "source": [
    "loansdata.isnull().sum()"
   ]
  },
  {
   "cell_type": "code",
   "execution_count": 54,
   "id": "a1dc40d5",
   "metadata": {},
   "outputs": [],
   "source": [
    "def outlier_values(i):\n",
    "    if ((i.dtype == 'float') or (i.dtype == 'int')):\n",
    "        i = i.clip(lower = i.quantile(.01), upper = i.quantile(.99))\n",
    "    else:\n",
    "        i = i\n",
    "    return i\n",
    "\n",
    "loansdata = loansdata.apply(outlier_values)"
   ]
  },
  {
   "cell_type": "code",
   "execution_count": 55,
   "id": "97026427",
   "metadata": {},
   "outputs": [
    {
     "data": {
      "text/html": [
       "<div>\n",
       "<style scoped>\n",
       "    .dataframe tbody tr th:only-of-type {\n",
       "        vertical-align: middle;\n",
       "    }\n",
       "\n",
       "    .dataframe tbody tr th {\n",
       "        vertical-align: top;\n",
       "    }\n",
       "\n",
       "    .dataframe thead th {\n",
       "        text-align: right;\n",
       "    }\n",
       "</style>\n",
       "<table border=\"1\" class=\"dataframe\">\n",
       "  <thead>\n",
       "    <tr style=\"text-align: right;\">\n",
       "      <th></th>\n",
       "      <th>loanID</th>\n",
       "      <th>Amount_Requested</th>\n",
       "      <th>Amount_Funded_By_Investors</th>\n",
       "      <th>Interest_Rate</th>\n",
       "      <th>Loan_Length</th>\n",
       "      <th>Loan_Purpose</th>\n",
       "      <th>Debt_To_Income_Ratio</th>\n",
       "      <th>State</th>\n",
       "      <th>Home_Ownership</th>\n",
       "      <th>Monthly_Income</th>\n",
       "      <th>FICO_Range</th>\n",
       "      <th>Open_CREDIT_Lines</th>\n",
       "      <th>Revolving_CREDIT_Balance</th>\n",
       "      <th>Inquiries_in_the_Last_6_Months</th>\n",
       "      <th>Employment_Length</th>\n",
       "    </tr>\n",
       "  </thead>\n",
       "  <tbody>\n",
       "    <tr>\n",
       "      <th>0</th>\n",
       "      <td>1</td>\n",
       "      <td>20000.0</td>\n",
       "      <td>20000.00</td>\n",
       "      <td>8.90</td>\n",
       "      <td>36.0</td>\n",
       "      <td>debt_consolidation</td>\n",
       "      <td>14.90</td>\n",
       "      <td>SC</td>\n",
       "      <td>MORTGAGE</td>\n",
       "      <td>6541.67</td>\n",
       "      <td>735-739</td>\n",
       "      <td>14.0</td>\n",
       "      <td>14272.0</td>\n",
       "      <td>2.0</td>\n",
       "      <td>1.0</td>\n",
       "    </tr>\n",
       "    <tr>\n",
       "      <th>1</th>\n",
       "      <td>2</td>\n",
       "      <td>19200.0</td>\n",
       "      <td>19200.00</td>\n",
       "      <td>12.12</td>\n",
       "      <td>36.0</td>\n",
       "      <td>debt_consolidation</td>\n",
       "      <td>28.36</td>\n",
       "      <td>TX</td>\n",
       "      <td>MORTGAGE</td>\n",
       "      <td>4583.33</td>\n",
       "      <td>715-719</td>\n",
       "      <td>12.0</td>\n",
       "      <td>11140.0</td>\n",
       "      <td>1.0</td>\n",
       "      <td>2.0</td>\n",
       "    </tr>\n",
       "    <tr>\n",
       "      <th>2</th>\n",
       "      <td>3</td>\n",
       "      <td>35000.0</td>\n",
       "      <td>35000.00</td>\n",
       "      <td>21.98</td>\n",
       "      <td>60.0</td>\n",
       "      <td>debt_consolidation</td>\n",
       "      <td>23.81</td>\n",
       "      <td>CA</td>\n",
       "      <td>MORTGAGE</td>\n",
       "      <td>11500.00</td>\n",
       "      <td>690-694</td>\n",
       "      <td>14.0</td>\n",
       "      <td>21977.0</td>\n",
       "      <td>1.0</td>\n",
       "      <td>2.0</td>\n",
       "    </tr>\n",
       "    <tr>\n",
       "      <th>3</th>\n",
       "      <td>4</td>\n",
       "      <td>10000.0</td>\n",
       "      <td>9975.00</td>\n",
       "      <td>9.99</td>\n",
       "      <td>36.0</td>\n",
       "      <td>debt_consolidation</td>\n",
       "      <td>14.30</td>\n",
       "      <td>KS</td>\n",
       "      <td>MORTGAGE</td>\n",
       "      <td>3833.33</td>\n",
       "      <td>695-699</td>\n",
       "      <td>10.0</td>\n",
       "      <td>9346.0</td>\n",
       "      <td>0.0</td>\n",
       "      <td>5.0</td>\n",
       "    </tr>\n",
       "    <tr>\n",
       "      <th>4</th>\n",
       "      <td>5</td>\n",
       "      <td>12000.0</td>\n",
       "      <td>12000.00</td>\n",
       "      <td>11.71</td>\n",
       "      <td>36.0</td>\n",
       "      <td>credit_card</td>\n",
       "      <td>18.78</td>\n",
       "      <td>NJ</td>\n",
       "      <td>RENT</td>\n",
       "      <td>3195.00</td>\n",
       "      <td>695-699</td>\n",
       "      <td>11.0</td>\n",
       "      <td>14469.0</td>\n",
       "      <td>0.0</td>\n",
       "      <td>9.0</td>\n",
       "    </tr>\n",
       "    <tr>\n",
       "      <th>...</th>\n",
       "      <td>...</td>\n",
       "      <td>...</td>\n",
       "      <td>...</td>\n",
       "      <td>...</td>\n",
       "      <td>...</td>\n",
       "      <td>...</td>\n",
       "      <td>...</td>\n",
       "      <td>...</td>\n",
       "      <td>...</td>\n",
       "      <td>...</td>\n",
       "      <td>...</td>\n",
       "      <td>...</td>\n",
       "      <td>...</td>\n",
       "      <td>...</td>\n",
       "      <td>...</td>\n",
       "    </tr>\n",
       "    <tr>\n",
       "      <th>2495</th>\n",
       "      <td>2496</td>\n",
       "      <td>30000.0</td>\n",
       "      <td>29950.00</td>\n",
       "      <td>16.77</td>\n",
       "      <td>60.0</td>\n",
       "      <td>debt_consolidation</td>\n",
       "      <td>19.23</td>\n",
       "      <td>NY</td>\n",
       "      <td>MORTGAGE</td>\n",
       "      <td>9250.00</td>\n",
       "      <td>705-709</td>\n",
       "      <td>15.0</td>\n",
       "      <td>45880.0</td>\n",
       "      <td>1.0</td>\n",
       "      <td>8.0</td>\n",
       "    </tr>\n",
       "    <tr>\n",
       "      <th>2496</th>\n",
       "      <td>2497</td>\n",
       "      <td>16000.0</td>\n",
       "      <td>16000.00</td>\n",
       "      <td>14.09</td>\n",
       "      <td>60.0</td>\n",
       "      <td>home_improvement</td>\n",
       "      <td>21.54</td>\n",
       "      <td>MD</td>\n",
       "      <td>OWN</td>\n",
       "      <td>8903.25</td>\n",
       "      <td>740-744</td>\n",
       "      <td>18.0</td>\n",
       "      <td>18898.0</td>\n",
       "      <td>1.0</td>\n",
       "      <td>10.0</td>\n",
       "    </tr>\n",
       "    <tr>\n",
       "      <th>2497</th>\n",
       "      <td>2498</td>\n",
       "      <td>10000.0</td>\n",
       "      <td>10000.00</td>\n",
       "      <td>13.99</td>\n",
       "      <td>36.0</td>\n",
       "      <td>debt_consolidation</td>\n",
       "      <td>4.89</td>\n",
       "      <td>PA</td>\n",
       "      <td>MORTGAGE</td>\n",
       "      <td>2166.67</td>\n",
       "      <td>680-684</td>\n",
       "      <td>4.0</td>\n",
       "      <td>4544.0</td>\n",
       "      <td>0.0</td>\n",
       "      <td>10.0</td>\n",
       "    </tr>\n",
       "    <tr>\n",
       "      <th>2498</th>\n",
       "      <td>2499</td>\n",
       "      <td>6000.0</td>\n",
       "      <td>6000.00</td>\n",
       "      <td>12.42</td>\n",
       "      <td>36.0</td>\n",
       "      <td>major_purchase</td>\n",
       "      <td>16.66</td>\n",
       "      <td>NJ</td>\n",
       "      <td>RENT</td>\n",
       "      <td>3500.00</td>\n",
       "      <td>675-679</td>\n",
       "      <td>8.0</td>\n",
       "      <td>7753.0</td>\n",
       "      <td>0.0</td>\n",
       "      <td>5.0</td>\n",
       "    </tr>\n",
       "    <tr>\n",
       "      <th>2499</th>\n",
       "      <td>2500</td>\n",
       "      <td>9000.0</td>\n",
       "      <td>5242.75</td>\n",
       "      <td>13.79</td>\n",
       "      <td>36.0</td>\n",
       "      <td>debt_consolidation</td>\n",
       "      <td>6.76</td>\n",
       "      <td>NY</td>\n",
       "      <td>RENT</td>\n",
       "      <td>3875.00</td>\n",
       "      <td>670-674</td>\n",
       "      <td>7.0</td>\n",
       "      <td>7589.0</td>\n",
       "      <td>0.0</td>\n",
       "      <td>10.0</td>\n",
       "    </tr>\n",
       "  </tbody>\n",
       "</table>\n",
       "<p>2500 rows × 15 columns</p>\n",
       "</div>"
      ],
      "text/plain": [
       "      loanID  Amount_Requested  Amount_Funded_By_Investors  Interest_Rate  \\\n",
       "0          1           20000.0                    20000.00           8.90   \n",
       "1          2           19200.0                    19200.00          12.12   \n",
       "2          3           35000.0                    35000.00          21.98   \n",
       "3          4           10000.0                     9975.00           9.99   \n",
       "4          5           12000.0                    12000.00          11.71   \n",
       "...      ...               ...                         ...            ...   \n",
       "2495    2496           30000.0                    29950.00          16.77   \n",
       "2496    2497           16000.0                    16000.00          14.09   \n",
       "2497    2498           10000.0                    10000.00          13.99   \n",
       "2498    2499            6000.0                     6000.00          12.42   \n",
       "2499    2500            9000.0                     5242.75          13.79   \n",
       "\n",
       "      Loan_Length        Loan_Purpose  Debt_To_Income_Ratio State  \\\n",
       "0            36.0  debt_consolidation                 14.90    SC   \n",
       "1            36.0  debt_consolidation                 28.36    TX   \n",
       "2            60.0  debt_consolidation                 23.81    CA   \n",
       "3            36.0  debt_consolidation                 14.30    KS   \n",
       "4            36.0         credit_card                 18.78    NJ   \n",
       "...           ...                 ...                   ...   ...   \n",
       "2495         60.0  debt_consolidation                 19.23    NY   \n",
       "2496         60.0    home_improvement                 21.54    MD   \n",
       "2497         36.0  debt_consolidation                  4.89    PA   \n",
       "2498         36.0      major_purchase                 16.66    NJ   \n",
       "2499         36.0  debt_consolidation                  6.76    NY   \n",
       "\n",
       "     Home_Ownership  Monthly_Income FICO_Range  Open_CREDIT_Lines  \\\n",
       "0          MORTGAGE         6541.67    735-739               14.0   \n",
       "1          MORTGAGE         4583.33    715-719               12.0   \n",
       "2          MORTGAGE        11500.00    690-694               14.0   \n",
       "3          MORTGAGE         3833.33    695-699               10.0   \n",
       "4              RENT         3195.00    695-699               11.0   \n",
       "...             ...             ...        ...                ...   \n",
       "2495       MORTGAGE         9250.00    705-709               15.0   \n",
       "2496            OWN         8903.25    740-744               18.0   \n",
       "2497       MORTGAGE         2166.67    680-684                4.0   \n",
       "2498           RENT         3500.00    675-679                8.0   \n",
       "2499           RENT         3875.00    670-674                7.0   \n",
       "\n",
       "      Revolving_CREDIT_Balance  Inquiries_in_the_Last_6_Months  \\\n",
       "0                      14272.0                             2.0   \n",
       "1                      11140.0                             1.0   \n",
       "2                      21977.0                             1.0   \n",
       "3                       9346.0                             0.0   \n",
       "4                      14469.0                             0.0   \n",
       "...                        ...                             ...   \n",
       "2495                   45880.0                             1.0   \n",
       "2496                   18898.0                             1.0   \n",
       "2497                    4544.0                             0.0   \n",
       "2498                    7753.0                             0.0   \n",
       "2499                    7589.0                             0.0   \n",
       "\n",
       "      Employment_Length  \n",
       "0                   1.0  \n",
       "1                   2.0  \n",
       "2                   2.0  \n",
       "3                   5.0  \n",
       "4                   9.0  \n",
       "...                 ...  \n",
       "2495                8.0  \n",
       "2496               10.0  \n",
       "2497               10.0  \n",
       "2498                5.0  \n",
       "2499               10.0  \n",
       "\n",
       "[2500 rows x 15 columns]"
      ]
     },
     "execution_count": 55,
     "metadata": {},
     "output_type": "execute_result"
    }
   ],
   "source": [
    "loansdata"
   ]
  },
  {
   "cell_type": "code",
   "execution_count": 56,
   "id": "a6b75df0",
   "metadata": {},
   "outputs": [],
   "source": [
    "loansdata['FICO_avg'] = (loansdata.FICO_Range.str.split('-', expand = True)[0].astype('float') + loansdata.FICO_Range.str.split('-', expand = True)[1].astype('float'))/2\n"
   ]
  },
  {
   "cell_type": "code",
   "execution_count": 57,
   "id": "3bacd2bb",
   "metadata": {},
   "outputs": [
    {
     "data": {
      "text/html": [
       "<div>\n",
       "<style scoped>\n",
       "    .dataframe tbody tr th:only-of-type {\n",
       "        vertical-align: middle;\n",
       "    }\n",
       "\n",
       "    .dataframe tbody tr th {\n",
       "        vertical-align: top;\n",
       "    }\n",
       "\n",
       "    .dataframe thead th {\n",
       "        text-align: right;\n",
       "    }\n",
       "</style>\n",
       "<table border=\"1\" class=\"dataframe\">\n",
       "  <thead>\n",
       "    <tr style=\"text-align: right;\">\n",
       "      <th></th>\n",
       "      <th>loanID</th>\n",
       "      <th>Amount_Requested</th>\n",
       "      <th>Amount_Funded_By_Investors</th>\n",
       "      <th>Interest_Rate</th>\n",
       "      <th>Loan_Length</th>\n",
       "      <th>Loan_Purpose</th>\n",
       "      <th>Debt_To_Income_Ratio</th>\n",
       "      <th>State</th>\n",
       "      <th>Home_Ownership</th>\n",
       "      <th>Monthly_Income</th>\n",
       "      <th>FICO_Range</th>\n",
       "      <th>Open_CREDIT_Lines</th>\n",
       "      <th>Revolving_CREDIT_Balance</th>\n",
       "      <th>Inquiries_in_the_Last_6_Months</th>\n",
       "      <th>Employment_Length</th>\n",
       "      <th>FICO_avg</th>\n",
       "    </tr>\n",
       "  </thead>\n",
       "  <tbody>\n",
       "    <tr>\n",
       "      <th>0</th>\n",
       "      <td>1</td>\n",
       "      <td>20000.0</td>\n",
       "      <td>20000.0</td>\n",
       "      <td>8.90</td>\n",
       "      <td>36.0</td>\n",
       "      <td>debt_consolidation</td>\n",
       "      <td>14.90</td>\n",
       "      <td>SC</td>\n",
       "      <td>MORTGAGE</td>\n",
       "      <td>6541.67</td>\n",
       "      <td>735-739</td>\n",
       "      <td>14.0</td>\n",
       "      <td>14272.0</td>\n",
       "      <td>2.0</td>\n",
       "      <td>1.0</td>\n",
       "      <td>737.0</td>\n",
       "    </tr>\n",
       "    <tr>\n",
       "      <th>1</th>\n",
       "      <td>2</td>\n",
       "      <td>19200.0</td>\n",
       "      <td>19200.0</td>\n",
       "      <td>12.12</td>\n",
       "      <td>36.0</td>\n",
       "      <td>debt_consolidation</td>\n",
       "      <td>28.36</td>\n",
       "      <td>TX</td>\n",
       "      <td>MORTGAGE</td>\n",
       "      <td>4583.33</td>\n",
       "      <td>715-719</td>\n",
       "      <td>12.0</td>\n",
       "      <td>11140.0</td>\n",
       "      <td>1.0</td>\n",
       "      <td>2.0</td>\n",
       "      <td>717.0</td>\n",
       "    </tr>\n",
       "    <tr>\n",
       "      <th>2</th>\n",
       "      <td>3</td>\n",
       "      <td>35000.0</td>\n",
       "      <td>35000.0</td>\n",
       "      <td>21.98</td>\n",
       "      <td>60.0</td>\n",
       "      <td>debt_consolidation</td>\n",
       "      <td>23.81</td>\n",
       "      <td>CA</td>\n",
       "      <td>MORTGAGE</td>\n",
       "      <td>11500.00</td>\n",
       "      <td>690-694</td>\n",
       "      <td>14.0</td>\n",
       "      <td>21977.0</td>\n",
       "      <td>1.0</td>\n",
       "      <td>2.0</td>\n",
       "      <td>692.0</td>\n",
       "    </tr>\n",
       "    <tr>\n",
       "      <th>3</th>\n",
       "      <td>4</td>\n",
       "      <td>10000.0</td>\n",
       "      <td>9975.0</td>\n",
       "      <td>9.99</td>\n",
       "      <td>36.0</td>\n",
       "      <td>debt_consolidation</td>\n",
       "      <td>14.30</td>\n",
       "      <td>KS</td>\n",
       "      <td>MORTGAGE</td>\n",
       "      <td>3833.33</td>\n",
       "      <td>695-699</td>\n",
       "      <td>10.0</td>\n",
       "      <td>9346.0</td>\n",
       "      <td>0.0</td>\n",
       "      <td>5.0</td>\n",
       "      <td>697.0</td>\n",
       "    </tr>\n",
       "    <tr>\n",
       "      <th>4</th>\n",
       "      <td>5</td>\n",
       "      <td>12000.0</td>\n",
       "      <td>12000.0</td>\n",
       "      <td>11.71</td>\n",
       "      <td>36.0</td>\n",
       "      <td>credit_card</td>\n",
       "      <td>18.78</td>\n",
       "      <td>NJ</td>\n",
       "      <td>RENT</td>\n",
       "      <td>3195.00</td>\n",
       "      <td>695-699</td>\n",
       "      <td>11.0</td>\n",
       "      <td>14469.0</td>\n",
       "      <td>0.0</td>\n",
       "      <td>9.0</td>\n",
       "      <td>697.0</td>\n",
       "    </tr>\n",
       "  </tbody>\n",
       "</table>\n",
       "</div>"
      ],
      "text/plain": [
       "   loanID  Amount_Requested  Amount_Funded_By_Investors  Interest_Rate  \\\n",
       "0       1           20000.0                     20000.0           8.90   \n",
       "1       2           19200.0                     19200.0          12.12   \n",
       "2       3           35000.0                     35000.0          21.98   \n",
       "3       4           10000.0                      9975.0           9.99   \n",
       "4       5           12000.0                     12000.0          11.71   \n",
       "\n",
       "   Loan_Length        Loan_Purpose  Debt_To_Income_Ratio State Home_Ownership  \\\n",
       "0         36.0  debt_consolidation                 14.90    SC       MORTGAGE   \n",
       "1         36.0  debt_consolidation                 28.36    TX       MORTGAGE   \n",
       "2         60.0  debt_consolidation                 23.81    CA       MORTGAGE   \n",
       "3         36.0  debt_consolidation                 14.30    KS       MORTGAGE   \n",
       "4         36.0         credit_card                 18.78    NJ           RENT   \n",
       "\n",
       "   Monthly_Income FICO_Range  Open_CREDIT_Lines  Revolving_CREDIT_Balance  \\\n",
       "0         6541.67    735-739               14.0                   14272.0   \n",
       "1         4583.33    715-719               12.0                   11140.0   \n",
       "2        11500.00    690-694               14.0                   21977.0   \n",
       "3         3833.33    695-699               10.0                    9346.0   \n",
       "4         3195.00    695-699               11.0                   14469.0   \n",
       "\n",
       "   Inquiries_in_the_Last_6_Months  Employment_Length  FICO_avg  \n",
       "0                             2.0                1.0     737.0  \n",
       "1                             1.0                2.0     717.0  \n",
       "2                             1.0                2.0     692.0  \n",
       "3                             0.0                5.0     697.0  \n",
       "4                             0.0                9.0     697.0  "
      ]
     },
     "execution_count": 57,
     "metadata": {},
     "output_type": "execute_result"
    }
   ],
   "source": [
    "loansdata.head()"
   ]
  },
  {
   "cell_type": "code",
   "execution_count": 58,
   "id": "ca1c568b",
   "metadata": {},
   "outputs": [],
   "source": [
    "loansdata.drop('loanID', axis= 'columns', inplace=True)"
   ]
  },
  {
   "cell_type": "code",
   "execution_count": 59,
   "id": "7ed87e93",
   "metadata": {},
   "outputs": [],
   "source": [
    "loansdata.drop('FICO_Range', axis= 'columns', inplace=True)"
   ]
  },
  {
   "cell_type": "code",
   "execution_count": 60,
   "id": "791f6ad8",
   "metadata": {},
   "outputs": [
    {
     "data": {
      "text/html": [
       "<div>\n",
       "<style scoped>\n",
       "    .dataframe tbody tr th:only-of-type {\n",
       "        vertical-align: middle;\n",
       "    }\n",
       "\n",
       "    .dataframe tbody tr th {\n",
       "        vertical-align: top;\n",
       "    }\n",
       "\n",
       "    .dataframe thead th {\n",
       "        text-align: right;\n",
       "    }\n",
       "</style>\n",
       "<table border=\"1\" class=\"dataframe\">\n",
       "  <thead>\n",
       "    <tr style=\"text-align: right;\">\n",
       "      <th></th>\n",
       "      <th>Amount_Requested</th>\n",
       "      <th>Amount_Funded_By_Investors</th>\n",
       "      <th>Interest_Rate</th>\n",
       "      <th>Loan_Length</th>\n",
       "      <th>Loan_Purpose</th>\n",
       "      <th>Debt_To_Income_Ratio</th>\n",
       "      <th>State</th>\n",
       "      <th>Home_Ownership</th>\n",
       "      <th>Monthly_Income</th>\n",
       "      <th>Open_CREDIT_Lines</th>\n",
       "      <th>Revolving_CREDIT_Balance</th>\n",
       "      <th>Inquiries_in_the_Last_6_Months</th>\n",
       "      <th>Employment_Length</th>\n",
       "      <th>FICO_avg</th>\n",
       "    </tr>\n",
       "  </thead>\n",
       "  <tbody>\n",
       "    <tr>\n",
       "      <th>0</th>\n",
       "      <td>20000.0</td>\n",
       "      <td>20000.0</td>\n",
       "      <td>8.90</td>\n",
       "      <td>36.0</td>\n",
       "      <td>debt_consolidation</td>\n",
       "      <td>14.90</td>\n",
       "      <td>SC</td>\n",
       "      <td>MORTGAGE</td>\n",
       "      <td>6541.67</td>\n",
       "      <td>14.0</td>\n",
       "      <td>14272.0</td>\n",
       "      <td>2.0</td>\n",
       "      <td>1.0</td>\n",
       "      <td>737.0</td>\n",
       "    </tr>\n",
       "    <tr>\n",
       "      <th>1</th>\n",
       "      <td>19200.0</td>\n",
       "      <td>19200.0</td>\n",
       "      <td>12.12</td>\n",
       "      <td>36.0</td>\n",
       "      <td>debt_consolidation</td>\n",
       "      <td>28.36</td>\n",
       "      <td>TX</td>\n",
       "      <td>MORTGAGE</td>\n",
       "      <td>4583.33</td>\n",
       "      <td>12.0</td>\n",
       "      <td>11140.0</td>\n",
       "      <td>1.0</td>\n",
       "      <td>2.0</td>\n",
       "      <td>717.0</td>\n",
       "    </tr>\n",
       "    <tr>\n",
       "      <th>2</th>\n",
       "      <td>35000.0</td>\n",
       "      <td>35000.0</td>\n",
       "      <td>21.98</td>\n",
       "      <td>60.0</td>\n",
       "      <td>debt_consolidation</td>\n",
       "      <td>23.81</td>\n",
       "      <td>CA</td>\n",
       "      <td>MORTGAGE</td>\n",
       "      <td>11500.00</td>\n",
       "      <td>14.0</td>\n",
       "      <td>21977.0</td>\n",
       "      <td>1.0</td>\n",
       "      <td>2.0</td>\n",
       "      <td>692.0</td>\n",
       "    </tr>\n",
       "    <tr>\n",
       "      <th>3</th>\n",
       "      <td>10000.0</td>\n",
       "      <td>9975.0</td>\n",
       "      <td>9.99</td>\n",
       "      <td>36.0</td>\n",
       "      <td>debt_consolidation</td>\n",
       "      <td>14.30</td>\n",
       "      <td>KS</td>\n",
       "      <td>MORTGAGE</td>\n",
       "      <td>3833.33</td>\n",
       "      <td>10.0</td>\n",
       "      <td>9346.0</td>\n",
       "      <td>0.0</td>\n",
       "      <td>5.0</td>\n",
       "      <td>697.0</td>\n",
       "    </tr>\n",
       "    <tr>\n",
       "      <th>4</th>\n",
       "      <td>12000.0</td>\n",
       "      <td>12000.0</td>\n",
       "      <td>11.71</td>\n",
       "      <td>36.0</td>\n",
       "      <td>credit_card</td>\n",
       "      <td>18.78</td>\n",
       "      <td>NJ</td>\n",
       "      <td>RENT</td>\n",
       "      <td>3195.00</td>\n",
       "      <td>11.0</td>\n",
       "      <td>14469.0</td>\n",
       "      <td>0.0</td>\n",
       "      <td>9.0</td>\n",
       "      <td>697.0</td>\n",
       "    </tr>\n",
       "  </tbody>\n",
       "</table>\n",
       "</div>"
      ],
      "text/plain": [
       "   Amount_Requested  Amount_Funded_By_Investors  Interest_Rate  Loan_Length  \\\n",
       "0           20000.0                     20000.0           8.90         36.0   \n",
       "1           19200.0                     19200.0          12.12         36.0   \n",
       "2           35000.0                     35000.0          21.98         60.0   \n",
       "3           10000.0                      9975.0           9.99         36.0   \n",
       "4           12000.0                     12000.0          11.71         36.0   \n",
       "\n",
       "         Loan_Purpose  Debt_To_Income_Ratio State Home_Ownership  \\\n",
       "0  debt_consolidation                 14.90    SC       MORTGAGE   \n",
       "1  debt_consolidation                 28.36    TX       MORTGAGE   \n",
       "2  debt_consolidation                 23.81    CA       MORTGAGE   \n",
       "3  debt_consolidation                 14.30    KS       MORTGAGE   \n",
       "4         credit_card                 18.78    NJ           RENT   \n",
       "\n",
       "   Monthly_Income  Open_CREDIT_Lines  Revolving_CREDIT_Balance  \\\n",
       "0         6541.67               14.0                   14272.0   \n",
       "1         4583.33               12.0                   11140.0   \n",
       "2        11500.00               14.0                   21977.0   \n",
       "3         3833.33               10.0                    9346.0   \n",
       "4         3195.00               11.0                   14469.0   \n",
       "\n",
       "   Inquiries_in_the_Last_6_Months  Employment_Length  FICO_avg  \n",
       "0                             2.0                1.0     737.0  \n",
       "1                             1.0                2.0     717.0  \n",
       "2                             1.0                2.0     692.0  \n",
       "3                             0.0                5.0     697.0  \n",
       "4                             0.0                9.0     697.0  "
      ]
     },
     "execution_count": 60,
     "metadata": {},
     "output_type": "execute_result"
    }
   ],
   "source": [
    "loansdata.head()"
   ]
  },
  {
   "cell_type": "markdown",
   "id": "7feaabb6",
   "metadata": {},
   "source": [
    "### a. Intrest rate is varied for different loan amounts (Less intrest charged for high loan amounts)\n"
   ]
  },
  {
   "cell_type": "code",
   "execution_count": 62,
   "id": "0b754451",
   "metadata": {},
   "outputs": [],
   "source": [
    "import scipy.stats as stats"
   ]
  },
  {
   "cell_type": "code",
   "execution_count": 107,
   "id": "7542ca40",
   "metadata": {},
   "outputs": [
    {
     "data": {
      "text/plain": [
       "(0.3356719553957688, 6.772326548355076e-67)"
      ]
     },
     "execution_count": 107,
     "metadata": {},
     "output_type": "execute_result"
    }
   ],
   "source": [
    "stats.pearsonr(loansdata['Interest_Rate'], loansdata['Amount_Funded_By_Investors'])"
   ]
  },
  {
   "cell_type": "markdown",
   "id": "c9cc59f8",
   "metadata": {},
   "source": [
    "##### Conclusion :\n",
    "\n",
    "From the above test, we can conclude that the P-value is smaller than 0.05.\n",
    "Hence NULL hypothesis(H0) is rejected, And we can assume that there is enough evidence to support the alternative hypothesis.\n",
    "With this, we assume that there is no difference between means and conlcude that significant difference exists.\n",
    "Hence the given statement is true. `The less Interest rate charged for high loan amounts.`"
   ]
  },
  {
   "cell_type": "markdown",
   "id": "b07f0cda",
   "metadata": {},
   "source": [
    "### b. Loan length is directly effecting intrest rate"
   ]
  },
  {
   "cell_type": "code",
   "execution_count": 244,
   "id": "5eddca03",
   "metadata": {},
   "outputs": [
    {
     "data": {
      "text/plain": [
       "(0.42313299005227767, 3.6559149831377863e-109)"
      ]
     },
     "execution_count": 244,
     "metadata": {},
     "output_type": "execute_result"
    }
   ],
   "source": [
    "stats.pearsonr(loansdata['Loan_Length'], loansdata['Interest_Rate'] )"
   ]
  },
  {
   "cell_type": "markdown",
   "id": "02a2a0b1",
   "metadata": {},
   "source": [
    "##### Conclusion :-\n",
    "From the above test we get that, P-value is 3.6559149831377863e-109.   \n",
    "Since P-value is smaller than 0.05. We shall reject the null hypothesis in each case.\n",
    "`Hence we can conclude that there is sufficient evidence to say that loan length is directly affecting interest rate.`"
   ]
  },
  {
   "cell_type": "markdown",
   "id": "c71c0198",
   "metadata": {},
   "source": [
    "### c. Inrest rate varies for different purpose of loans"
   ]
  },
  {
   "cell_type": "code",
   "execution_count": 245,
   "id": "61bc5852",
   "metadata": {},
   "outputs": [],
   "source": [
    "diff_purpose = loansdata.Loan_Purpose.unique()"
   ]
  },
  {
   "cell_type": "code",
   "execution_count": 246,
   "id": "df047439",
   "metadata": {},
   "outputs": [
    {
     "ename": "TypeError",
     "evalue": "'Series' object is not callable",
     "output_type": "error",
     "traceback": [
      "\u001b[1;31m---------------------------------------------------------------------------\u001b[0m",
      "\u001b[1;31mTypeError\u001b[0m                                 Traceback (most recent call last)",
      "\u001b[1;32m<ipython-input-246-31da90523513>\u001b[0m in \u001b[0;36m<module>\u001b[1;34m\u001b[0m\n\u001b[0;32m      1\u001b[0m \u001b[1;32mfor\u001b[0m \u001b[0mx\u001b[0m \u001b[1;32min\u001b[0m \u001b[0mdiff_purpose\u001b[0m\u001b[1;33m:\u001b[0m\u001b[1;33m\u001b[0m\u001b[1;33m\u001b[0m\u001b[0m\n\u001b[1;32m----> 2\u001b[1;33m     \u001b[0mprint\u001b[0m\u001b[1;33m(\u001b[0m\u001b[0mloansdata\u001b[0m\u001b[1;33m.\u001b[0m\u001b[0mInterest_Rate\u001b[0m\u001b[1;33m(\u001b[0m\u001b[0mx\u001b[0m\u001b[1;33m)\u001b[0m\u001b[1;33m.\u001b[0m\u001b[0msum\u001b[0m\u001b[1;33m(\u001b[0m\u001b[1;33m)\u001b[0m\u001b[1;33m)\u001b[0m\u001b[1;33m\u001b[0m\u001b[1;33m\u001b[0m\u001b[0m\n\u001b[0m",
      "\u001b[1;31mTypeError\u001b[0m: 'Series' object is not callable"
     ]
    }
   ],
   "source": [
    "for x in diff_purpose:\n",
    "    print(loansdata.Interest_Rate(x).sum())"
   ]
  },
  {
   "cell_type": "markdown",
   "id": "da400a77",
   "metadata": {},
   "source": [
    "### d. There is relationship between FICO scores and Home Ownership. It means that, People with owning home will have high FICO scores.\n"
   ]
  },
  {
   "cell_type": "code",
   "execution_count": 247,
   "id": "fbd8e152",
   "metadata": {},
   "outputs": [
    {
     "data": {
      "text/plain": [
       "array(['MORTGAGE', 'RENT', 'OWN', 'OTHER', 'NONE'], dtype=object)"
      ]
     },
     "execution_count": 247,
     "metadata": {},
     "output_type": "execute_result"
    }
   ],
   "source": [
    "loansdata.Home_Ownership.unique()"
   ]
  },
  {
   "cell_type": "code",
   "execution_count": 248,
   "id": "e889044d",
   "metadata": {},
   "outputs": [],
   "source": [
    "home_owner = loansdata.FICO_avg[loansdata.Home_Ownership == 'OWN']"
   ]
  },
  {
   "cell_type": "code",
   "execution_count": 249,
   "id": "98be1f70",
   "metadata": {},
   "outputs": [
    {
     "data": {
      "text/plain": [
       "F_onewayResult(statistic=0.06706051869391198, pvalue=0.7956855051380114)"
      ]
     },
     "execution_count": 249,
     "metadata": {},
     "output_type": "execute_result"
    }
   ],
   "source": [
    "stats.f_oneway(home_owner,loansdata.FICO_avg)"
   ]
  },
  {
   "cell_type": "markdown",
   "id": "597e4ea5",
   "metadata": {},
   "source": [
    "##### Conclusion:\n",
    "\n",
    "#### From the above hypothesis test, we get that the P-value is larger than 0.05. \n",
    "`Hence we should accept the Alternate hypothesis. `\n",
    "\n",
    "There is no existance of difference in relationship between Home ownership and FICO Average.\n",
    "`Hence, it is assumed that they are not similar.`"
   ]
  },
  {
   "cell_type": "markdown",
   "id": "d19e7145",
   "metadata": {},
   "source": [
    "# BUSINESS PROBLEM - 2"
   ]
  },
  {
   "cell_type": "markdown",
   "id": "60e29c87",
   "metadata": {},
   "source": [
    "## We would like to assess if there is any difference in the average price quotes provided by Mary and Barry."
   ]
  },
  {
   "cell_type": "code",
   "execution_count": 129,
   "id": "68b5ef87",
   "metadata": {},
   "outputs": [
    {
     "data": {
      "text/html": [
       "<div>\n",
       "<style scoped>\n",
       "    .dataframe tbody tr th:only-of-type {\n",
       "        vertical-align: middle;\n",
       "    }\n",
       "\n",
       "    .dataframe tbody tr th {\n",
       "        vertical-align: top;\n",
       "    }\n",
       "\n",
       "    .dataframe thead th {\n",
       "        text-align: right;\n",
       "    }\n",
       "</style>\n",
       "<table border=\"1\" class=\"dataframe\">\n",
       "  <thead>\n",
       "    <tr style=\"text-align: right;\">\n",
       "      <th></th>\n",
       "      <th>Order_Number</th>\n",
       "      <th>Barry_Price</th>\n",
       "      <th>Mary_Price</th>\n",
       "    </tr>\n",
       "  </thead>\n",
       "  <tbody>\n",
       "    <tr>\n",
       "      <th>0</th>\n",
       "      <td>1</td>\n",
       "      <td>126</td>\n",
       "      <td>114</td>\n",
       "    </tr>\n",
       "    <tr>\n",
       "      <th>1</th>\n",
       "      <td>2</td>\n",
       "      <td>110</td>\n",
       "      <td>118</td>\n",
       "    </tr>\n",
       "    <tr>\n",
       "      <th>2</th>\n",
       "      <td>3</td>\n",
       "      <td>138</td>\n",
       "      <td>114</td>\n",
       "    </tr>\n",
       "    <tr>\n",
       "      <th>3</th>\n",
       "      <td>4</td>\n",
       "      <td>142</td>\n",
       "      <td>111</td>\n",
       "    </tr>\n",
       "    <tr>\n",
       "      <th>4</th>\n",
       "      <td>5</td>\n",
       "      <td>146</td>\n",
       "      <td>129</td>\n",
       "    </tr>\n",
       "    <tr>\n",
       "      <th>5</th>\n",
       "      <td>6</td>\n",
       "      <td>136</td>\n",
       "      <td>119</td>\n",
       "    </tr>\n",
       "    <tr>\n",
       "      <th>6</th>\n",
       "      <td>7</td>\n",
       "      <td>94</td>\n",
       "      <td>97</td>\n",
       "    </tr>\n",
       "    <tr>\n",
       "      <th>7</th>\n",
       "      <td>8</td>\n",
       "      <td>103</td>\n",
       "      <td>104</td>\n",
       "    </tr>\n",
       "    <tr>\n",
       "      <th>8</th>\n",
       "      <td>9</td>\n",
       "      <td>140</td>\n",
       "      <td>127</td>\n",
       "    </tr>\n",
       "    <tr>\n",
       "      <th>9</th>\n",
       "      <td>10</td>\n",
       "      <td>152</td>\n",
       "      <td>133</td>\n",
       "    </tr>\n",
       "    <tr>\n",
       "      <th>10</th>\n",
       "      <td>11</td>\n",
       "      <td>108</td>\n",
       "      <td>103</td>\n",
       "    </tr>\n",
       "    <tr>\n",
       "      <th>11</th>\n",
       "      <td>12</td>\n",
       "      <td>97</td>\n",
       "      <td>108</td>\n",
       "    </tr>\n",
       "  </tbody>\n",
       "</table>\n",
       "</div>"
      ],
      "text/plain": [
       "    Order_Number  Barry_Price  Mary_Price\n",
       "0              1          126         114\n",
       "1              2          110         118\n",
       "2              3          138         114\n",
       "3              4          142         111\n",
       "4              5          146         129\n",
       "5              6          136         119\n",
       "6              7           94          97\n",
       "7              8          103         104\n",
       "8              9          140         127\n",
       "9             10          152         133\n",
       "10            11          108         103\n",
       "11            12           97         108"
      ]
     },
     "execution_count": 129,
     "metadata": {},
     "output_type": "execute_result"
    }
   ],
   "source": [
    "AVG_price_quote = pd.read_csv('D:\\AnalytiXlabs\\PYTHON\\CASE-STUDIES\\Basic Statistics - Hypothesis Testing\\Price_Quotes.csv')\n",
    "AVG_price_quote"
   ]
  },
  {
   "cell_type": "code",
   "execution_count": 133,
   "id": "847a4180",
   "metadata": {},
   "outputs": [
    {
     "data": {
      "text/plain": [
       "(0.8244127830429856, 0.0009709574235546202)"
      ]
     },
     "execution_count": 133,
     "metadata": {},
     "output_type": "execute_result"
    }
   ],
   "source": [
    "stats.pearsonr(AVG_price_quote['Barry_Price'], AVG_price_quote['Mary_Price'])"
   ]
  },
  {
   "cell_type": "markdown",
   "id": "ef55804c",
   "metadata": {},
   "source": [
    "##### Conclusion:\n",
    "\n",
    "From the above test, we can conclude that the P-value is smaller than 0.05.\n",
    "Hence NULL hypothesis(H0) is rejected.\n",
    "`Hence we conclude that the Correlation statistically sigificant.`"
   ]
  },
  {
   "cell_type": "markdown",
   "id": "52cff4ac",
   "metadata": {},
   "source": [
    "# BUSINESS PROBLEM - 3"
   ]
  },
  {
   "cell_type": "markdown",
   "id": "f2b48b70",
   "metadata": {},
   "source": [
    "### Determine what effect, if any, the reengineering effort had on the incidence behavioral problems and staff turnover. i.e To determine if the reengineering effort changed the critical incidence rate. Is there evidence that the critical incidence rate improved?"
   ]
  },
  {
   "cell_type": "code",
   "execution_count": 137,
   "id": "8d508d87",
   "metadata": {},
   "outputs": [],
   "source": [
    "treat_facility = pd.read_csv('D:\\AnalytiXlabs\\PYTHON\\CASE-STUDIES\\Basic Statistics - Hypothesis Testing\\Treatment_Facility.csv')"
   ]
  },
  {
   "cell_type": "code",
   "execution_count": 139,
   "id": "233396e1",
   "metadata": {},
   "outputs": [
    {
     "data": {
      "text/html": [
       "<div>\n",
       "<style scoped>\n",
       "    .dataframe tbody tr th:only-of-type {\n",
       "        vertical-align: middle;\n",
       "    }\n",
       "\n",
       "    .dataframe tbody tr th {\n",
       "        vertical-align: top;\n",
       "    }\n",
       "\n",
       "    .dataframe thead th {\n",
       "        text-align: right;\n",
       "    }\n",
       "</style>\n",
       "<table border=\"1\" class=\"dataframe\">\n",
       "  <thead>\n",
       "    <tr style=\"text-align: right;\">\n",
       "      <th></th>\n",
       "      <th>Month</th>\n",
       "      <th>Reengineer</th>\n",
       "      <th>Employee_Turnover</th>\n",
       "      <th>VAR4</th>\n",
       "      <th>VAR5</th>\n",
       "    </tr>\n",
       "  </thead>\n",
       "  <tbody>\n",
       "    <tr>\n",
       "      <th>0</th>\n",
       "      <td>1</td>\n",
       "      <td>Prior</td>\n",
       "      <td>0.0000</td>\n",
       "      <td>24.390244</td>\n",
       "      <td>42.682927</td>\n",
       "    </tr>\n",
       "    <tr>\n",
       "      <th>1</th>\n",
       "      <td>2</td>\n",
       "      <td>Prior</td>\n",
       "      <td>6.0606</td>\n",
       "      <td>19.354839</td>\n",
       "      <td>25.806452</td>\n",
       "    </tr>\n",
       "    <tr>\n",
       "      <th>2</th>\n",
       "      <td>3</td>\n",
       "      <td>Prior</td>\n",
       "      <td>12.1212</td>\n",
       "      <td>35.087719</td>\n",
       "      <td>146.198830</td>\n",
       "    </tr>\n",
       "    <tr>\n",
       "      <th>3</th>\n",
       "      <td>4</td>\n",
       "      <td>Prior</td>\n",
       "      <td>3.3333</td>\n",
       "      <td>18.404908</td>\n",
       "      <td>110.429448</td>\n",
       "    </tr>\n",
       "    <tr>\n",
       "      <th>4</th>\n",
       "      <td>5</td>\n",
       "      <td>Prior</td>\n",
       "      <td>12.9032</td>\n",
       "      <td>17.964072</td>\n",
       "      <td>23.952096</td>\n",
       "    </tr>\n",
       "  </tbody>\n",
       "</table>\n",
       "</div>"
      ],
      "text/plain": [
       "   Month Reengineer  Employee_Turnover       VAR4        VAR5\n",
       "0      1      Prior             0.0000  24.390244   42.682927\n",
       "1      2      Prior             6.0606  19.354839   25.806452\n",
       "2      3      Prior            12.1212  35.087719  146.198830\n",
       "3      4      Prior             3.3333  18.404908  110.429448\n",
       "4      5      Prior            12.9032  17.964072   23.952096"
      ]
     },
     "execution_count": 139,
     "metadata": {},
     "output_type": "execute_result"
    }
   ],
   "source": [
    "treat_facility.head()"
   ]
  },
  {
   "cell_type": "code",
   "execution_count": 140,
   "id": "350b8bb9",
   "metadata": {},
   "outputs": [
    {
     "data": {
      "text/html": [
       "<div>\n",
       "<style scoped>\n",
       "    .dataframe tbody tr th:only-of-type {\n",
       "        vertical-align: middle;\n",
       "    }\n",
       "\n",
       "    .dataframe tbody tr th {\n",
       "        vertical-align: top;\n",
       "    }\n",
       "\n",
       "    .dataframe thead th {\n",
       "        text-align: right;\n",
       "    }\n",
       "</style>\n",
       "<table border=\"1\" class=\"dataframe\">\n",
       "  <thead>\n",
       "    <tr style=\"text-align: right;\">\n",
       "      <th></th>\n",
       "      <th>Month</th>\n",
       "      <th>Reengineer</th>\n",
       "      <th>Employee_Turnover</th>\n",
       "      <th>TRFF</th>\n",
       "      <th>CI</th>\n",
       "    </tr>\n",
       "  </thead>\n",
       "  <tbody>\n",
       "    <tr>\n",
       "      <th>0</th>\n",
       "      <td>1</td>\n",
       "      <td>Prior</td>\n",
       "      <td>0.0000</td>\n",
       "      <td>24.390244</td>\n",
       "      <td>42.682927</td>\n",
       "    </tr>\n",
       "    <tr>\n",
       "      <th>1</th>\n",
       "      <td>2</td>\n",
       "      <td>Prior</td>\n",
       "      <td>6.0606</td>\n",
       "      <td>19.354839</td>\n",
       "      <td>25.806452</td>\n",
       "    </tr>\n",
       "    <tr>\n",
       "      <th>2</th>\n",
       "      <td>3</td>\n",
       "      <td>Prior</td>\n",
       "      <td>12.1212</td>\n",
       "      <td>35.087719</td>\n",
       "      <td>146.198830</td>\n",
       "    </tr>\n",
       "    <tr>\n",
       "      <th>3</th>\n",
       "      <td>4</td>\n",
       "      <td>Prior</td>\n",
       "      <td>3.3333</td>\n",
       "      <td>18.404908</td>\n",
       "      <td>110.429448</td>\n",
       "    </tr>\n",
       "    <tr>\n",
       "      <th>4</th>\n",
       "      <td>5</td>\n",
       "      <td>Prior</td>\n",
       "      <td>12.9032</td>\n",
       "      <td>17.964072</td>\n",
       "      <td>23.952096</td>\n",
       "    </tr>\n",
       "  </tbody>\n",
       "</table>\n",
       "</div>"
      ],
      "text/plain": [
       "   Month Reengineer  Employee_Turnover       TRFF          CI\n",
       "0      1      Prior             0.0000  24.390244   42.682927\n",
       "1      2      Prior             6.0606  19.354839   25.806452\n",
       "2      3      Prior            12.1212  35.087719  146.198830\n",
       "3      4      Prior             3.3333  18.404908  110.429448\n",
       "4      5      Prior            12.9032  17.964072   23.952096"
      ]
     },
     "execution_count": 140,
     "metadata": {},
     "output_type": "execute_result"
    }
   ],
   "source": [
    "treat_facility.rename(columns = {'VAR4':'TRFF', 'VAR5':'CI'}, inplace = True)\n",
    "treat_facility.head()"
   ]
  },
  {
   "cell_type": "code",
   "execution_count": 141,
   "id": "1bf27a0b",
   "metadata": {},
   "outputs": [
    {
     "data": {
      "text/plain": [
       "array(['Prior', 'Post'], dtype=object)"
      ]
     },
     "execution_count": 141,
     "metadata": {},
     "output_type": "execute_result"
    }
   ],
   "source": [
    "treat_facility.Reengineer.unique()"
   ]
  },
  {
   "cell_type": "code",
   "execution_count": 143,
   "id": "0d1a693b",
   "metadata": {},
   "outputs": [],
   "source": [
    "ci_prior = treat_facility.CI[treat_facility.Reengineer == 'Prior']\n",
    "ci_post = treat_facility.CI[treat_facility.Reengineer == 'Post']"
   ]
  },
  {
   "cell_type": "code",
   "execution_count": 145,
   "id": "88ff7531",
   "metadata": {},
   "outputs": [
    {
     "data": {
      "text/plain": [
       "Ttest_indResult(statistic=1.6279144253528646, pvalue=0.12091989189884149)"
      ]
     },
     "execution_count": 145,
     "metadata": {},
     "output_type": "execute_result"
    }
   ],
   "source": [
    "stats.ttest_ind(ci_prior, ci_post)"
   ]
  },
  {
   "cell_type": "markdown",
   "id": "8549a590",
   "metadata": {},
   "source": [
    "##### Conclusion :-\n",
    "\n",
    "From the above hypothesis testing, we got the P-value is larger than 0.05.\n",
    "Therefore we cannot reject the null hypothesis.\n",
    "\n",
    "Hence, We conclude that the incidence behavioral problem effort cannot changed the Critical incident problems."
   ]
  },
  {
   "cell_type": "code",
   "execution_count": 148,
   "id": "97279dab",
   "metadata": {},
   "outputs": [],
   "source": [
    "prior_turnover = treat_facility.Employee_Turnover[treat_facility.Reengineer == 'Prior']\n",
    "post_turnover = treat_facility.Employee_Turnover[treat_facility.Reengineer == 'Post']"
   ]
  },
  {
   "cell_type": "code",
   "execution_count": 149,
   "id": "adb73171",
   "metadata": {},
   "outputs": [
    {
     "data": {
      "text/plain": [
       "Ttest_indResult(statistic=-1.770306704753604, pvalue=0.09361109345535304)"
      ]
     },
     "execution_count": 149,
     "metadata": {},
     "output_type": "execute_result"
    }
   ],
   "source": [
    "stats.ttest_ind(prior_turnover, post_turnover)"
   ]
  },
  {
   "cell_type": "markdown",
   "id": "d5e142b1",
   "metadata": {},
   "source": [
    "##### Conclusion :-\n",
    "\n",
    "From the above hypothesis testing, we got the P-value is larger than 0.05.\n",
    "Therefore we cannot reject the null hypothesis.\n",
    "\n",
    "Existance of significant difference between Reengineering and Employee turnover cannot be concluded.\n",
    "\n",
    "Hence, We conclude that the incidence behavioral problem effort cannot changed the Critical incident problems."
   ]
  },
  {
   "cell_type": "markdown",
   "id": "c34b811b",
   "metadata": {},
   "source": [
    "`There is NO evidence that the critical incidence rate improved.`"
   ]
  },
  {
   "cell_type": "markdown",
   "id": "674f86d4",
   "metadata": {},
   "source": [
    "# BUSINESS PROBLEM - 4"
   ]
  },
  {
   "cell_type": "markdown",
   "id": "a002ded0",
   "metadata": {},
   "source": [
    "### We will focus on the prioritization system. If the system is working, then high priority jobs, on average, should be completed more quickly than medium priority jobs, and medium priority jobs should be completed more quickly than low priority jobs. Use the data provided to determine whether thisis, in fact, occurring."
   ]
  },
  {
   "cell_type": "code",
   "execution_count": 159,
   "id": "1c1af09a",
   "metadata": {},
   "outputs": [
    {
     "data": {
      "text/html": [
       "<div>\n",
       "<style scoped>\n",
       "    .dataframe tbody tr th:only-of-type {\n",
       "        vertical-align: middle;\n",
       "    }\n",
       "\n",
       "    .dataframe tbody tr th {\n",
       "        vertical-align: top;\n",
       "    }\n",
       "\n",
       "    .dataframe thead th {\n",
       "        text-align: right;\n",
       "    }\n",
       "</style>\n",
       "<table border=\"1\" class=\"dataframe\">\n",
       "  <thead>\n",
       "    <tr style=\"text-align: right;\">\n",
       "      <th></th>\n",
       "      <th>Days</th>\n",
       "      <th>Priority</th>\n",
       "    </tr>\n",
       "  </thead>\n",
       "  <tbody>\n",
       "    <tr>\n",
       "      <th>0</th>\n",
       "      <td>3.3</td>\n",
       "      <td>High</td>\n",
       "    </tr>\n",
       "    <tr>\n",
       "      <th>1</th>\n",
       "      <td>7.9</td>\n",
       "      <td>Medium</td>\n",
       "    </tr>\n",
       "    <tr>\n",
       "      <th>2</th>\n",
       "      <td>0.3</td>\n",
       "      <td>High</td>\n",
       "    </tr>\n",
       "    <tr>\n",
       "      <th>3</th>\n",
       "      <td>0.7</td>\n",
       "      <td>Medium</td>\n",
       "    </tr>\n",
       "    <tr>\n",
       "      <th>4</th>\n",
       "      <td>8.6</td>\n",
       "      <td>Medium</td>\n",
       "    </tr>\n",
       "  </tbody>\n",
       "</table>\n",
       "</div>"
      ],
      "text/plain": [
       "   Days Priority\n",
       "0   3.3     High\n",
       "1   7.9   Medium\n",
       "2   0.3     High\n",
       "3   0.7   Medium\n",
       "4   8.6   Medium"
      ]
     },
     "execution_count": 159,
     "metadata": {},
     "output_type": "execute_result"
    }
   ],
   "source": [
    "Assess_priority = pd.read_csv('D:\\AnalytiXlabs\\PYTHON\\CASE-STUDIES\\Basic Statistics - Hypothesis Testing\\Priority_Assessment.csv')\n",
    "Assess_priority.head()"
   ]
  },
  {
   "cell_type": "code",
   "execution_count": 160,
   "id": "3eded395",
   "metadata": {},
   "outputs": [],
   "source": [
    "high_priority = Assess_priority.Priority=='High'\n",
    "medium_priority = Assess_priority.Priority=='Medium'\n",
    "low_priority = Assess_priority.Priority=='Low'"
   ]
  },
  {
   "cell_type": "code",
   "execution_count": 162,
   "id": "cc16cc19",
   "metadata": {},
   "outputs": [
    {
     "data": {
      "text/plain": [
       "Ttest_indResult(statistic=4.349696519519604, pvalue=1.4713706828326097e-05)"
      ]
     },
     "execution_count": 162,
     "metadata": {},
     "output_type": "execute_result"
    }
   ],
   "source": [
    "stats.ttest_ind(high_priority, medium_priority)"
   ]
  },
  {
   "cell_type": "markdown",
   "id": "6e3d9ff4",
   "metadata": {},
   "source": [
    "##### Conclusion :-\n",
    "From the above Hypothesis test, we can get the P-value is smaller than 0.05.\n",
    "`Therefore null hypothesis(H0) is rejected.`\n",
    "\n",
    "So, We assume that High priority jobs on Average are being completed more quickly than Medium priority jobs.\n",
    "\n",
    "\n",
    "`Hence, We can say that System is working for high to medium priority jobs.`"
   ]
  },
  {
   "cell_type": "code",
   "execution_count": 168,
   "id": "18b29dc2",
   "metadata": {},
   "outputs": [
    {
     "data": {
      "text/plain": [
       "Ttest_indResult(statistic=12.477336143283122, pvalue=8.353233524224478e-34)"
      ]
     },
     "execution_count": 168,
     "metadata": {},
     "output_type": "execute_result"
    }
   ],
   "source": [
    "stats.ttest_ind(medium_priority,low_priority)"
   ]
  },
  {
   "cell_type": "markdown",
   "id": "f63340b0",
   "metadata": {},
   "source": [
    "##### Conclusion :-\n",
    "From the above Hypothesis test, we can get the P-value is smaller than 0.05.\n",
    "`Therefore null hypothesis(H0) is rejected.`\n",
    "\n",
    "So, We assume that Medium priority jobs on Average are being completed more quickly than Low priority jobs.\n",
    "\n",
    "\n",
    "`Hence, We can say that System is working for high to medium priority jobs.`"
   ]
  },
  {
   "cell_type": "markdown",
   "id": "fc1e322e",
   "metadata": {},
   "source": [
    "# BUSINESS PROBLEM - 5"
   ]
  },
  {
   "cell_type": "markdown",
   "id": "025f0eac",
   "metadata": {},
   "source": [
    "### Use the survey results to address the following questions.\n",
    "#### 1) What isthe overall level of customer satisfaction?\n",
    "#### 2) What factors are linked to satisfaction?\n",
    "#### 3) What is the demographic profile of Film on the Rocks patrons?\n",
    "#### 4) In what media outlet(s) should the film series be advertised?\n"
   ]
  },
  {
   "cell_type": "code",
   "execution_count": 172,
   "id": "e7bba978",
   "metadata": {},
   "outputs": [
    {
     "data": {
      "text/html": [
       "<div>\n",
       "<style scoped>\n",
       "    .dataframe tbody tr th:only-of-type {\n",
       "        vertical-align: middle;\n",
       "    }\n",
       "\n",
       "    .dataframe tbody tr th {\n",
       "        vertical-align: top;\n",
       "    }\n",
       "\n",
       "    .dataframe thead th {\n",
       "        text-align: right;\n",
       "    }\n",
       "</style>\n",
       "<table border=\"1\" class=\"dataframe\">\n",
       "  <thead>\n",
       "    <tr style=\"text-align: right;\">\n",
       "      <th></th>\n",
       "      <th>_rowstate_</th>\n",
       "      <th>Movie</th>\n",
       "      <th>Gender</th>\n",
       "      <th>Marital_Status</th>\n",
       "      <th>Sinage</th>\n",
       "      <th>Parking</th>\n",
       "      <th>Clean</th>\n",
       "      <th>Overall</th>\n",
       "      <th>Age</th>\n",
       "      <th>Income</th>\n",
       "      <th>Hear_About</th>\n",
       "    </tr>\n",
       "  </thead>\n",
       "  <tbody>\n",
       "    <tr>\n",
       "      <th>0</th>\n",
       "      <td>0</td>\n",
       "      <td>Ferris Buellers Day Off</td>\n",
       "      <td>Female</td>\n",
       "      <td>Married</td>\n",
       "      <td>2.0</td>\n",
       "      <td>2.0</td>\n",
       "      <td>2.0</td>\n",
       "      <td>2.0</td>\n",
       "      <td>3.0</td>\n",
       "      <td>1.0</td>\n",
       "      <td>5</td>\n",
       "    </tr>\n",
       "    <tr>\n",
       "      <th>1</th>\n",
       "      <td>0</td>\n",
       "      <td>Ferris Buellers Day Off</td>\n",
       "      <td>Female</td>\n",
       "      <td>Single</td>\n",
       "      <td>1.0</td>\n",
       "      <td>1.0</td>\n",
       "      <td>1.0</td>\n",
       "      <td>1.0</td>\n",
       "      <td>2.0</td>\n",
       "      <td>1.0</td>\n",
       "      <td>5</td>\n",
       "    </tr>\n",
       "    <tr>\n",
       "      <th>2</th>\n",
       "      <td>0</td>\n",
       "      <td>Ferris Buellers Day Off</td>\n",
       "      <td>Male</td>\n",
       "      <td>Married</td>\n",
       "      <td>2.0</td>\n",
       "      <td>4.0</td>\n",
       "      <td>3.0</td>\n",
       "      <td>2.0</td>\n",
       "      <td>4.0</td>\n",
       "      <td>1.0</td>\n",
       "      <td>5</td>\n",
       "    </tr>\n",
       "    <tr>\n",
       "      <th>3</th>\n",
       "      <td>0</td>\n",
       "      <td>Ferris Buellers Day Off</td>\n",
       "      <td>Female</td>\n",
       "      <td>Married</td>\n",
       "      <td>1.0</td>\n",
       "      <td>3.0</td>\n",
       "      <td>2.0</td>\n",
       "      <td>2.0</td>\n",
       "      <td>4.0</td>\n",
       "      <td>1.0</td>\n",
       "      <td>5</td>\n",
       "    </tr>\n",
       "    <tr>\n",
       "      <th>4</th>\n",
       "      <td>0</td>\n",
       "      <td>Ferris Buellers Day Off</td>\n",
       "      <td>Female</td>\n",
       "      <td>Married</td>\n",
       "      <td>1.0</td>\n",
       "      <td>1.0</td>\n",
       "      <td>1.0</td>\n",
       "      <td>1.0</td>\n",
       "      <td>3.0</td>\n",
       "      <td>3.0</td>\n",
       "      <td>1</td>\n",
       "    </tr>\n",
       "  </tbody>\n",
       "</table>\n",
       "</div>"
      ],
      "text/plain": [
       "   _rowstate_                    Movie  Gender Marital_Status  Sinage  \\\n",
       "0           0  Ferris Buellers Day Off  Female        Married     2.0   \n",
       "1           0  Ferris Buellers Day Off  Female         Single     1.0   \n",
       "2           0  Ferris Buellers Day Off    Male        Married     2.0   \n",
       "3           0  Ferris Buellers Day Off  Female        Married     1.0   \n",
       "4           0  Ferris Buellers Day Off  Female        Married     1.0   \n",
       "\n",
       "   Parking  Clean  Overall  Age  Income Hear_About  \n",
       "0      2.0    2.0      2.0  3.0     1.0          5  \n",
       "1      1.0    1.0      1.0  2.0     1.0          5  \n",
       "2      4.0    3.0      2.0  4.0     1.0          5  \n",
       "3      3.0    2.0      2.0  4.0     1.0          5  \n",
       "4      1.0    1.0      1.0  3.0     3.0          1  "
      ]
     },
     "execution_count": 172,
     "metadata": {},
     "output_type": "execute_result"
    }
   ],
   "source": [
    "films_data = pd.read_csv('D:\\AnalytiXlabs\\PYTHON\\CASE-STUDIES\\Basic Statistics - Hypothesis Testing\\Films.csv')\n",
    "films_data.head()"
   ]
  },
  {
   "cell_type": "code",
   "execution_count": 173,
   "id": "240deb2e",
   "metadata": {},
   "outputs": [
    {
     "data": {
      "text/plain": [
       "_rowstate_          int64\n",
       "Movie              object\n",
       "Gender             object\n",
       "Marital_Status     object\n",
       "Sinage            float64\n",
       "Parking           float64\n",
       "Clean             float64\n",
       "Overall           float64\n",
       "Age               float64\n",
       "Income            float64\n",
       "Hear_About         object\n",
       "dtype: object"
      ]
     },
     "execution_count": 173,
     "metadata": {},
     "output_type": "execute_result"
    }
   ],
   "source": [
    "films_data.dtypes"
   ]
  },
  {
   "cell_type": "code",
   "execution_count": 175,
   "id": "074dc6a9",
   "metadata": {},
   "outputs": [
    {
     "data": {
      "text/plain": [
       "_rowstate_         0\n",
       "Movie              0\n",
       "Gender             0\n",
       "Marital_Status     2\n",
       "Sinage             2\n",
       "Parking            2\n",
       "Clean              3\n",
       "Overall            2\n",
       "Age                2\n",
       "Income            16\n",
       "Hear_About         7\n",
       "dtype: int64"
      ]
     },
     "execution_count": 175,
     "metadata": {},
     "output_type": "execute_result"
    }
   ],
   "source": [
    "films_data.isnull().sum()"
   ]
  },
  {
   "cell_type": "code",
   "execution_count": 176,
   "id": "b754786d",
   "metadata": {},
   "outputs": [],
   "source": [
    "films_data.dropna(inplace=True)"
   ]
  },
  {
   "cell_type": "code",
   "execution_count": 185,
   "id": "7be88c27",
   "metadata": {},
   "outputs": [
    {
     "data": {
      "text/plain": [
       "Movie             0\n",
       "Gender            0\n",
       "Marital_Status    0\n",
       "Sinage            0\n",
       "Parking           0\n",
       "Clean             0\n",
       "Overall           0\n",
       "Age               0\n",
       "Income            0\n",
       "Hear_About        0\n",
       "dtype: int64"
      ]
     },
     "execution_count": 185,
     "metadata": {},
     "output_type": "execute_result"
    }
   ],
   "source": [
    "films_data.isnull().sum()"
   ]
  },
  {
   "cell_type": "code",
   "execution_count": null,
   "id": "369cdb3e",
   "metadata": {},
   "outputs": [],
   "source": [
    "films_data.drop(columns='_rowstate_', inplace=True)"
   ]
  },
  {
   "cell_type": "code",
   "execution_count": 187,
   "id": "a6e7f263",
   "metadata": {},
   "outputs": [
    {
     "data": {
      "text/html": [
       "<div>\n",
       "<style scoped>\n",
       "    .dataframe tbody tr th:only-of-type {\n",
       "        vertical-align: middle;\n",
       "    }\n",
       "\n",
       "    .dataframe tbody tr th {\n",
       "        vertical-align: top;\n",
       "    }\n",
       "\n",
       "    .dataframe thead th {\n",
       "        text-align: right;\n",
       "    }\n",
       "</style>\n",
       "<table border=\"1\" class=\"dataframe\">\n",
       "  <thead>\n",
       "    <tr style=\"text-align: right;\">\n",
       "      <th></th>\n",
       "      <th>Movie</th>\n",
       "      <th>Gender</th>\n",
       "      <th>Marital_Status</th>\n",
       "      <th>Sinage</th>\n",
       "      <th>Parking</th>\n",
       "      <th>Clean</th>\n",
       "      <th>Overall</th>\n",
       "      <th>Age</th>\n",
       "      <th>Income</th>\n",
       "      <th>Hear_About</th>\n",
       "    </tr>\n",
       "  </thead>\n",
       "  <tbody>\n",
       "    <tr>\n",
       "      <th>0</th>\n",
       "      <td>Ferris Buellers Day Off</td>\n",
       "      <td>2.0</td>\n",
       "      <td>Married</td>\n",
       "      <td>2.0</td>\n",
       "      <td>2.0</td>\n",
       "      <td>2.0</td>\n",
       "      <td>2.0</td>\n",
       "      <td>3.0</td>\n",
       "      <td>1.0</td>\n",
       "      <td>5</td>\n",
       "    </tr>\n",
       "    <tr>\n",
       "      <th>1</th>\n",
       "      <td>Ferris Buellers Day Off</td>\n",
       "      <td>2.0</td>\n",
       "      <td>Single</td>\n",
       "      <td>1.0</td>\n",
       "      <td>1.0</td>\n",
       "      <td>1.0</td>\n",
       "      <td>1.0</td>\n",
       "      <td>2.0</td>\n",
       "      <td>1.0</td>\n",
       "      <td>5</td>\n",
       "    </tr>\n",
       "    <tr>\n",
       "      <th>2</th>\n",
       "      <td>Ferris Buellers Day Off</td>\n",
       "      <td>1.0</td>\n",
       "      <td>Married</td>\n",
       "      <td>2.0</td>\n",
       "      <td>4.0</td>\n",
       "      <td>3.0</td>\n",
       "      <td>2.0</td>\n",
       "      <td>4.0</td>\n",
       "      <td>1.0</td>\n",
       "      <td>5</td>\n",
       "    </tr>\n",
       "    <tr>\n",
       "      <th>3</th>\n",
       "      <td>Ferris Buellers Day Off</td>\n",
       "      <td>2.0</td>\n",
       "      <td>Married</td>\n",
       "      <td>1.0</td>\n",
       "      <td>3.0</td>\n",
       "      <td>2.0</td>\n",
       "      <td>2.0</td>\n",
       "      <td>4.0</td>\n",
       "      <td>1.0</td>\n",
       "      <td>5</td>\n",
       "    </tr>\n",
       "    <tr>\n",
       "      <th>4</th>\n",
       "      <td>Ferris Buellers Day Off</td>\n",
       "      <td>2.0</td>\n",
       "      <td>Married</td>\n",
       "      <td>1.0</td>\n",
       "      <td>1.0</td>\n",
       "      <td>1.0</td>\n",
       "      <td>1.0</td>\n",
       "      <td>3.0</td>\n",
       "      <td>3.0</td>\n",
       "      <td>1</td>\n",
       "    </tr>\n",
       "  </tbody>\n",
       "</table>\n",
       "</div>"
      ],
      "text/plain": [
       "                     Movie  Gender Marital_Status  Sinage  Parking  Clean  \\\n",
       "0  Ferris Buellers Day Off     2.0        Married     2.0      2.0    2.0   \n",
       "1  Ferris Buellers Day Off     2.0         Single     1.0      1.0    1.0   \n",
       "2  Ferris Buellers Day Off     1.0        Married     2.0      4.0    3.0   \n",
       "3  Ferris Buellers Day Off     2.0        Married     1.0      3.0    2.0   \n",
       "4  Ferris Buellers Day Off     2.0        Married     1.0      1.0    1.0   \n",
       "\n",
       "   Overall  Age  Income Hear_About  \n",
       "0      2.0  3.0     1.0          5  \n",
       "1      1.0  2.0     1.0          5  \n",
       "2      2.0  4.0     1.0          5  \n",
       "3      2.0  4.0     1.0          5  \n",
       "4      1.0  3.0     3.0          1  "
      ]
     },
     "execution_count": 187,
     "metadata": {},
     "output_type": "execute_result"
    }
   ],
   "source": [
    "films_data.head()"
   ]
  },
  {
   "cell_type": "code",
   "execution_count": null,
   "id": "91e77af9",
   "metadata": {},
   "outputs": [],
   "source": [
    "films_data['Gender'] = films_data.Gender.str.replace('Male', '1').str.replace('Female','2')\n",
    "films_data['Gender'] = films_data['Gender'].astype('float')\n",
    "films_data['Gender']"
   ]
  },
  {
   "cell_type": "code",
   "execution_count": 193,
   "id": "157ccd01",
   "metadata": {},
   "outputs": [
    {
     "data": {
      "text/plain": [
       "array([1., 2.])"
      ]
     },
     "execution_count": 193,
     "metadata": {},
     "output_type": "execute_result"
    }
   ],
   "source": [
    "films_data.Marital_Status.unique()"
   ]
  },
  {
   "cell_type": "code",
   "execution_count": null,
   "id": "0688a20b",
   "metadata": {},
   "outputs": [],
   "source": [
    "films_data['Marital_Status'] = films_data.Marital_Status.str.replace('Slngle','2').str.replace('Single','2').str.replace('Married','1')\n",
    "films_data['Marital_Status'] = films_data['Marital_Status'].astype('float')"
   ]
  },
  {
   "cell_type": "code",
   "execution_count": 199,
   "id": "4ec40dae",
   "metadata": {},
   "outputs": [
    {
     "data": {
      "text/plain": [
       "Movie              object\n",
       "Gender            float64\n",
       "Marital_Status    float64\n",
       "Sinage            float64\n",
       "Parking           float64\n",
       "Clean             float64\n",
       "Overall           float64\n",
       "Age               float64\n",
       "Income            float64\n",
       "Hear_About         object\n",
       "dtype: object"
      ]
     },
     "execution_count": 199,
     "metadata": {},
     "output_type": "execute_result"
    }
   ],
   "source": [
    "films_data.dtypes"
   ]
  },
  {
   "cell_type": "markdown",
   "id": "a50bc0a2",
   "metadata": {},
   "source": [
    "### 1) What isthe overall level of customer satisfaction?"
   ]
  },
  {
   "cell_type": "code",
   "execution_count": 202,
   "id": "0544e7c4",
   "metadata": {},
   "outputs": [
    {
     "data": {
      "text/plain": [
       "0.6753367561589327"
      ]
     },
     "execution_count": 202,
     "metadata": {},
     "output_type": "execute_result"
    }
   ],
   "source": [
    "std_dev = films_data.Overall.std()\n",
    "std_dev"
   ]
  },
  {
   "cell_type": "code",
   "execution_count": 204,
   "id": "f30753b0",
   "metadata": {},
   "outputs": [
    {
     "data": {
      "text/plain": [
       "301"
      ]
     },
     "execution_count": 204,
     "metadata": {},
     "output_type": "execute_result"
    }
   ],
   "source": [
    "num = films_data.Overall.count()\n",
    "num"
   ]
  },
  {
   "cell_type": "code",
   "execution_count": 205,
   "id": "f1c29b5a",
   "metadata": {},
   "outputs": [
    {
     "data": {
      "text/plain": [
       "1.6212624584717608"
      ]
     },
     "execution_count": 205,
     "metadata": {},
     "output_type": "execute_result"
    }
   ],
   "source": [
    "sample_mean = films_data.Overall.mean()\n",
    "sample_mean"
   ]
  },
  {
   "cell_type": "code",
   "execution_count": 207,
   "id": "768f6e61",
   "metadata": {},
   "outputs": [
    {
     "data": {
      "text/plain": [
       "0.038925763497347034"
      ]
     },
     "execution_count": 207,
     "metadata": {},
     "output_type": "execute_result"
    }
   ],
   "source": [
    "standard_error = std_dev/np.sqrt(num)\n",
    "standard_error"
   ]
  },
  {
   "cell_type": "code",
   "execution_count": 218,
   "id": "92c8422e",
   "metadata": {},
   "outputs": [
    {
     "name": "stdout",
     "output_type": "stream",
     "text": [
      "Overall level customer satisfaction in population level with 95% confidence lies in the range between  (1.54497, 1.69756)\n"
     ]
    }
   ],
   "source": [
    "print(\"Overall level customer satisfaction in population level with 95% confidence lies in the range between \",(round((sample_mean - 1.96 * standard_error),5),round((sample_mean + 1.96 * standard_error),5)))"
   ]
  },
  {
   "cell_type": "markdown",
   "id": "cb749050",
   "metadata": {},
   "source": [
    "### 2) What factors are linked to satisfaction?"
   ]
  },
  {
   "cell_type": "code",
   "execution_count": 220,
   "id": "e5067474",
   "metadata": {},
   "outputs": [
    {
     "data": {
      "text/html": [
       "<div>\n",
       "<style scoped>\n",
       "    .dataframe tbody tr th:only-of-type {\n",
       "        vertical-align: middle;\n",
       "    }\n",
       "\n",
       "    .dataframe tbody tr th {\n",
       "        vertical-align: top;\n",
       "    }\n",
       "\n",
       "    .dataframe thead th {\n",
       "        text-align: right;\n",
       "    }\n",
       "</style>\n",
       "<table border=\"1\" class=\"dataframe\">\n",
       "  <thead>\n",
       "    <tr style=\"text-align: right;\">\n",
       "      <th></th>\n",
       "      <th>Movie</th>\n",
       "      <th>Gender</th>\n",
       "      <th>Marital_Status</th>\n",
       "      <th>Sinage</th>\n",
       "      <th>Parking</th>\n",
       "      <th>Clean</th>\n",
       "      <th>Overall</th>\n",
       "      <th>Age</th>\n",
       "      <th>Income</th>\n",
       "      <th>Hear_About</th>\n",
       "    </tr>\n",
       "  </thead>\n",
       "  <tbody>\n",
       "    <tr>\n",
       "      <th>0</th>\n",
       "      <td>Ferris Buellers Day Off</td>\n",
       "      <td>2.0</td>\n",
       "      <td>1.0</td>\n",
       "      <td>2.0</td>\n",
       "      <td>2.0</td>\n",
       "      <td>2.0</td>\n",
       "      <td>2.0</td>\n",
       "      <td>3.0</td>\n",
       "      <td>1.0</td>\n",
       "      <td>5</td>\n",
       "    </tr>\n",
       "    <tr>\n",
       "      <th>1</th>\n",
       "      <td>Ferris Buellers Day Off</td>\n",
       "      <td>2.0</td>\n",
       "      <td>2.0</td>\n",
       "      <td>1.0</td>\n",
       "      <td>1.0</td>\n",
       "      <td>1.0</td>\n",
       "      <td>1.0</td>\n",
       "      <td>2.0</td>\n",
       "      <td>1.0</td>\n",
       "      <td>5</td>\n",
       "    </tr>\n",
       "    <tr>\n",
       "      <th>2</th>\n",
       "      <td>Ferris Buellers Day Off</td>\n",
       "      <td>1.0</td>\n",
       "      <td>1.0</td>\n",
       "      <td>2.0</td>\n",
       "      <td>4.0</td>\n",
       "      <td>3.0</td>\n",
       "      <td>2.0</td>\n",
       "      <td>4.0</td>\n",
       "      <td>1.0</td>\n",
       "      <td>5</td>\n",
       "    </tr>\n",
       "    <tr>\n",
       "      <th>3</th>\n",
       "      <td>Ferris Buellers Day Off</td>\n",
       "      <td>2.0</td>\n",
       "      <td>1.0</td>\n",
       "      <td>1.0</td>\n",
       "      <td>3.0</td>\n",
       "      <td>2.0</td>\n",
       "      <td>2.0</td>\n",
       "      <td>4.0</td>\n",
       "      <td>1.0</td>\n",
       "      <td>5</td>\n",
       "    </tr>\n",
       "    <tr>\n",
       "      <th>4</th>\n",
       "      <td>Ferris Buellers Day Off</td>\n",
       "      <td>2.0</td>\n",
       "      <td>1.0</td>\n",
       "      <td>1.0</td>\n",
       "      <td>1.0</td>\n",
       "      <td>1.0</td>\n",
       "      <td>1.0</td>\n",
       "      <td>3.0</td>\n",
       "      <td>3.0</td>\n",
       "      <td>1</td>\n",
       "    </tr>\n",
       "  </tbody>\n",
       "</table>\n",
       "</div>"
      ],
      "text/plain": [
       "                     Movie  Gender  Marital_Status  Sinage  Parking  Clean  \\\n",
       "0  Ferris Buellers Day Off     2.0             1.0     2.0      2.0    2.0   \n",
       "1  Ferris Buellers Day Off     2.0             2.0     1.0      1.0    1.0   \n",
       "2  Ferris Buellers Day Off     1.0             1.0     2.0      4.0    3.0   \n",
       "3  Ferris Buellers Day Off     2.0             1.0     1.0      3.0    2.0   \n",
       "4  Ferris Buellers Day Off     2.0             1.0     1.0      1.0    1.0   \n",
       "\n",
       "   Overall  Age  Income Hear_About  \n",
       "0      2.0  3.0     1.0          5  \n",
       "1      1.0  2.0     1.0          5  \n",
       "2      2.0  4.0     1.0          5  \n",
       "3      2.0  4.0     1.0          5  \n",
       "4      1.0  3.0     3.0          1  "
      ]
     },
     "execution_count": 220,
     "metadata": {},
     "output_type": "execute_result"
    }
   ],
   "source": [
    "films_data.head()"
   ]
  },
  {
   "cell_type": "markdown",
   "id": "0fe1c5ca",
   "metadata": {},
   "source": [
    "#### _We need to check the relationship among \"Sinage\", \"Parking\", \"Clean\" with the \"Overall\" variable. So we can assume that the  \"Overall\" variable is Y variable. Hence, we need to check the linear relationship between all the X variables with Y one._"
   ]
  },
  {
   "cell_type": "code",
   "execution_count": 223,
   "id": "19f6c7ce",
   "metadata": {},
   "outputs": [
    {
     "data": {
      "text/plain": [
       "(0.41068947395476774, 1.1216055328082663e-13)"
      ]
     },
     "execution_count": 223,
     "metadata": {},
     "output_type": "execute_result"
    }
   ],
   "source": [
    "stats.pearsonr(films_data['Sinage'], films_data['Overall'])"
   ]
  },
  {
   "cell_type": "code",
   "execution_count": 225,
   "id": "0e88e7c5",
   "metadata": {},
   "outputs": [
    {
     "data": {
      "text/plain": [
       "(0.547717040093135, 5.815651388569721e-25)"
      ]
     },
     "execution_count": 225,
     "metadata": {},
     "output_type": "execute_result"
    }
   ],
   "source": [
    "stats.pearsonr(films_data['Parking'], films_data['Overall'])"
   ]
  },
  {
   "cell_type": "code",
   "execution_count": 224,
   "id": "4ff3298d",
   "metadata": {},
   "outputs": [
    {
     "data": {
      "text/plain": [
       "(0.38552254938449104, 4.194278906459256e-12)"
      ]
     },
     "execution_count": 224,
     "metadata": {},
     "output_type": "execute_result"
    }
   ],
   "source": [
    "stats.pearsonr(films_data['Clean'], films_data['Overall'])"
   ]
  },
  {
   "cell_type": "markdown",
   "id": "485932e3",
   "metadata": {},
   "source": [
    "`Conclusion :-`\n",
    "\n",
    "From the above 3 tests, We can see that the P-value is smaller than 0.05. Therefore we can assume that we have enough evidence to reject NULL Hypothesis H0. So, We can say that with the 95% confidence, that the factors that are linked to \"Overall\" customer satisfaction are all the X variables (Sinage, Parking & Clean).\n",
    "\n",
    "`Hence there is a linear relationship between Sinage, Parking & Clean with Overall variable.`"
   ]
  },
  {
   "cell_type": "markdown",
   "id": "0e50929b",
   "metadata": {},
   "source": [
    "### 3) What is the demographic profile of Film on the Rocks patrons?"
   ]
  },
  {
   "cell_type": "code",
   "execution_count": null,
   "id": "aed897d3",
   "metadata": {},
   "outputs": [],
   "source": []
  },
  {
   "cell_type": "markdown",
   "id": "7303442d",
   "metadata": {},
   "source": [
    "### 4) In what media outlet(s) should the film series be advertised?"
   ]
  },
  {
   "cell_type": "code",
   "execution_count": 241,
   "id": "3f226836",
   "metadata": {},
   "outputs": [],
   "source": [
    "sns.set_style(\"ticks\")\n",
    "sns.set_style('darkgrid')"
   ]
  },
  {
   "cell_type": "code",
   "execution_count": 242,
   "id": "f285f629",
   "metadata": {},
   "outputs": [
    {
     "data": {
      "image/png": "[encoded data removed]",
      "text/plain": [
       "<Figure size 432x288 with 1 Axes>"
      ]
     },
     "metadata": {},
     "output_type": "display_data"
    }
   ],
   "source": [
    "films_data.Hear_About.value_counts().plot(kind = 'barh')\n",
    "plt.show()"
   ]
  },
  {
   "cell_type": "markdown",
   "id": "2b5aac9c",
   "metadata": {},
   "source": [
    "`Conclusion :-`\n",
    "\n",
    "We are showing from the above data series, 1 = television; 2 = newspaper; 3 = radio; 4 = website; 5 = word of mouth.\n",
    "From the above bar graph, We can conclude that the Word of mouth is the largest in number, but it's not a media outlet. Next to that there is the 4 = website.\n",
    "\n",
    "`Therefore \"Website\" is the best media outlet to advertise the film series. `"
   ]
  }
 ],
 "metadata": {
  "kernelspec": {
   "display_name": "Python 3",
   "language": "python",
   "name": "python3"
  },
  "language_info": {
   "codemirror_mode": {
    "name": "ipython",
    "version": 3
   },
   "file_extension": ".py",
   "mimetype": "text/x-python",
   "name": "python",
   "nbconvert_exporter": "python",
   "pygments_lexer": "ipython3",
   "version": "3.8.8"
  }
 },
 "nbformat": 4,
 "nbformat_minor": 5
}
